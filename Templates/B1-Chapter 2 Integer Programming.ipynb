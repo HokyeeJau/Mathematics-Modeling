{
 "cells": [
  {
   "cell_type": "markdown",
   "metadata": {},
   "source": [
    "求解方法分类\n",
    "> 分支定界法 -- 可求纯嚯混合整数线性规划  \n",
    "> 割平面法 -- 可求纯或混合整数线性规划  \n",
    "> 隐枚举法 -- 求解“0-1”整数规划  \n",
    ">+ 过滤隐枚举法  \n",
    ">+ 分支隐枚举法  \n",
    "\n",
    "> 匈牙利法 -- 解决指派问题（“0-1”规划特殊情形）  \n",
    "> 蒙特卡洛法 -- 求解各种类型规划  "
   ]
  },
  {
   "cell_type": "markdown",
   "metadata": {},
   "source": [
    "## 例2.1\n",
    "min z = x1 + x2  \n",
    "s.t.\n",
    "- 2x1 + 4x2 = 5\n",
    "- x1, x2 >= 0"
   ]
  },
  {
   "cell_type": "code",
   "execution_count": 7,
   "metadata": {},
   "outputs": [
    {
     "name": "stdout",
     "output_type": "stream",
     "text": [
      "     con: array([0.])\n",
      "     fun: 1.25\n",
      " message: 'Optimization terminated successfully.'\n",
      "     nit: 1\n",
      "   slack: array([], dtype=float64)\n",
      "  status: 0\n",
      " success: True\n",
      "       x: array([0.  , 1.25])\n"
     ]
    }
   ],
   "source": [
    "from scipy.optimize import linprog\n",
    "\n",
    "z = [1, 1]\n",
    "a = [[2,4]]\n",
    "b = [5]\n",
    "\n",
    "bounds = [(0, None), (0, None)]\n",
    "\n",
    "res = linprog(z, A_eq=a, b_eq=b, bounds=bounds, method='simplex')\n",
    "print(res)"
   ]
  },
  {
   "cell_type": "markdown",
   "metadata": {},
   "source": [
    "## 0-1 整数规划 - 分支界定法"
   ]
  },
  {
   "cell_type": "code",
   "execution_count": 8,
   "metadata": {},
   "outputs": [],
   "source": [
    "from scipy.optimize import linprog\n",
    "import numpy as np\n",
    "import math\n",
    "import sys\n",
    "from queue import Queue\n",
    "\n",
    "\n",
    "class ILP():\n",
    "    def __init__(self, c, A_ub, b_ub, A_eq, b_eq, bounds):\n",
    "        # 全局参数\n",
    "        self.LOWER_BOUND = -sys.maxsize\n",
    "        self.UPPER_BOUND = sys.maxsize\n",
    "        self.opt_val = None\n",
    "        self.opt_x = None\n",
    "        self.Q = Queue()\n",
    "\n",
    "        # 这些参数在每轮计算中都不会改变\n",
    "        self.c = -c\n",
    "        self.A_eq = A_eq\n",
    "        self.b_eq = b_eq\n",
    "        self.bounds = bounds\n",
    "\n",
    "        # 首先计算一下初始问题\n",
    "        r = linprog(-c, A_ub, b_ub, A_eq, b_eq, bounds)\n",
    "\n",
    "        # 若最初问题线性不可解\n",
    "        if not r.success:\n",
    "            raise ValueError('Not a feasible problem!')\n",
    "\n",
    "        # 将解和约束参数放入队列\n",
    "        self.Q.put((r, A_ub, b_ub))\n",
    "\n",
    "    def solve(self):\n",
    "        while not self.Q.empty():\n",
    "            # 取出当前问题\n",
    "            res, A_ub, b_ub = self.Q.get(block=False)\n",
    "\n",
    "            # 当前最优值小于总下界，则排除此区域\n",
    "            if -res.fun < self.LOWER_BOUND:\n",
    "                continue\n",
    "\n",
    "            # 若结果 x 中全为整数，则尝试更新全局下界、全局最优值和最优解\n",
    "            if all(list(map(lambda f: f.is_integer(), res.x))):\n",
    "                if self.LOWER_BOUND < -res.fun:\n",
    "                    self.LOWER_BOUND = -res.fun\n",
    "\n",
    "                if self.opt_val is None or self.opt_val < -res.fun:\n",
    "                    self.opt_val = -res.fun\n",
    "                    self.opt_x = res.x\n",
    "\n",
    "                continue\n",
    "\n",
    "            # 进行分枝\n",
    "            else:\n",
    "                # 寻找 x 中第一个不是整数的，取其下标 idx\n",
    "                idx = 0\n",
    "                for i, x in enumerate(res.x):\n",
    "                    if not x.is_integer():\n",
    "                        break\n",
    "                    idx += 1\n",
    "\n",
    "                # 构建新的约束条件（分割\n",
    "                new_con1 = np.zeros(A_ub.shape[1])\n",
    "                new_con1[idx] = -1\n",
    "                new_con2 = np.zeros(A_ub.shape[1])\n",
    "                new_con2[idx] = 1\n",
    "                new_A_ub1 = np.insert(A_ub, A_ub.shape[0], new_con1, axis=0)\n",
    "                new_A_ub2 = np.insert(A_ub, A_ub.shape[0], new_con2, axis=0)\n",
    "                new_b_ub1 = np.insert(b_ub, b_ub.shape[0], -math.ceil(res.x[idx]), axis=0)\n",
    "                new_b_ub2 = np.insert(b_ub, b_ub.shape[0], math.floor(res.x[idx]), axis=0)\n",
    "\n",
    "                # 将新约束条件加入队列，先加最优值大的那一支\n",
    "                r1 = linprog(self.c, new_A_ub1, new_b_ub1, self.A_eq, self.b_eq, self.bounds)\n",
    "                r2 = linprog(self.c, new_A_ub2, new_b_ub2, self.A_eq, self.b_eq, self.bounds)\n",
    "                if not r1.success and r2.success:\n",
    "                    self.Q.put((r2, new_A_ub2, new_b_ub2))\n",
    "                elif not r2.success and r1.success:\n",
    "                    self.Q.put((r1, new_A_ub1, new_b_ub1))\n",
    "                elif r1.success and r2.success:\n",
    "                    if -r1.fun > -r2.fun:\n",
    "                        self.Q.put((r1, new_A_ub1, new_b_ub1))\n",
    "                        self.Q.put((r2, new_A_ub2, new_b_ub2))\n",
    "                    else:\n",
    "                        self.Q.put((r2, new_A_ub2, new_b_ub2))\n",
    "                        self.Q.put((r1, new_A_ub1, new_b_ub1))"
   ]
  },
  {
   "cell_type": "code",
   "execution_count": 9,
   "metadata": {},
   "outputs": [],
   "source": [
    "def test2():\n",
    "    \"\"\" 此测试的真实最优解为 [2, 4] \"\"\"\n",
    "    c = np.array([3, 13])\n",
    "    A = np.array([[2, 9], [11, -8]])\n",
    "    b = np.array([40, 82])\n",
    "    Aeq = None\n",
    "    beq = None\n",
    "    bounds = [(0, None), (0, None)]\n",
    "\n",
    "    solver = ILP(c, A, b, Aeq, beq, bounds)\n",
    "    solver.solve()\n",
    "\n",
    "    print(\"Test 2's result:\", solver.opt_val, solver.opt_x)\n",
    "    print(\"Test 2's true optimal x: [2, 4]\\n\")"
   ]
  },
  {
   "cell_type": "code",
   "execution_count": 10,
   "metadata": {},
   "outputs": [
    {
     "name": "stdout",
     "output_type": "stream",
     "text": [
      "Test 2's result: 58.0 [2. 4.]\n",
      "Test 2's true optimal x: [2, 4]\n",
      "\n"
     ]
    }
   ],
   "source": [
    "test2()"
   ]
  },
  {
   "cell_type": "markdown",
   "metadata": {},
   "source": [
    "## 非线性规划问题求解"
   ]
  },
  {
   "cell_type": "code",
   "execution_count": 11,
   "metadata": {},
   "outputs": [],
   "source": [
    "from scipy.optimize import minimize\n",
    "import numpy as np\n",
    "\n",
    "def fun():\n",
    "    v = lambda a: - a[0]**2 - a[1]**2 - 3*a[2]*a[2] - 4*a[3]*a[3] - 2*a[4]*a[4] + 8*a[0] + 2*a[1] + 3*a[2] + a[3] + 2*a[4]\n",
    "    return v\n",
    "\n",
    "def con():\n",
    "    # 约束条件，分为eq和ineq\n",
    "    # eq表示函数等于0，ineq表示表达式大于等于0\n",
    "    cons = ({'type':'ineq', 'fun':lambda a:400-sum(a)},\n",
    "            {'type':'ineq', 'fun':lambda a:800-a[0]-2*a[1]-2*a[2]-a[3]-6*a[4]},\n",
    "            {'type':'ineq', 'fun':lambda a:200-2*a[0]-a[1]-6*a[2]},\n",
    "            {'type':'ineq', 'fun':lambda a:200-a[2]-a[3]-5*a[4]})\n",
    "    return cons"
   ]
  },
  {
   "cell_type": "code",
   "execution_count": 12,
   "metadata": {},
   "outputs": [
    {
     "name": "stdout",
     "output_type": "stream",
     "text": [
      "|______________________________________________________|\n",
      "L-BFGS-B\n",
      "      fun: -106227.0\n",
      " hess_inv: <5x5 LbfgsInvHessProduct with dtype=float64>\n",
      "      jac: array([-189.99853637, -195.99974621, -590.99838836, -790.99991126,\n",
      "       -394.00038077])\n",
      "  message: b'CONVERGENCE: NORM_OF_PROJECTED_GRADIENT_<=_PGTOL'\n",
      "     nfev: 30\n",
      "      nit: 3\n",
      "   status: 0\n",
      "  success: True\n",
      "        x: array([99., 99., 99., 99., 99.])\n",
      "|______________________________________________________|\n",
      "TNC\n",
      "     fun: -96624.0\n",
      "     jac: array([-189.99853637,    1.99943315, -590.99838836, -790.99991126,\n",
      "       -394.00038077])\n",
      " message: 'Local minimum reached (|pg| ~= 0)'\n",
      "    nfev: 15\n",
      "     nit: 5\n",
      "  status: 0\n",
      " success: True\n",
      "       x: array([99.,  0., 99., 99., 99.])\n",
      "|______________________________________________________|\n",
      "SLSQP\n",
      "     fun: -42677.56889637987\n",
      "     jac: array([   8.        ,    2.        , -197.        , -791.        ,\n",
      "        -52.13330078])\n",
      " message: 'Optimization terminated successfully.'\n",
      "    nfev: 25\n",
      "     nit: 2\n",
      "    njev: 2\n",
      "  status: 0\n",
      " success: True\n",
      "       x: array([8.58173163e-09, 2.41151227e-10, 3.33333334e+01, 9.90000000e+01,\n",
      "       1.35333333e+01])\n",
      "|______________________________________________________|\n",
      "trust-constr\n",
      " barrier_parameter: 0.004000000000000001\n",
      " barrier_tolerance: 0.004000000000000001\n",
      "          cg_niter: 23\n",
      "      cg_stop_cond: 4\n",
      "            constr: [array([254.13328645]), array([553.13354258]), array([0.00012931]), array([0.00038244]), array([5.45968221e-05, 1.20976110e-04, 3.33332734e+01, 9.89999947e+01,\n",
      "       1.35332699e+01])]\n",
      "       constr_nfev: [84, 84, 84, 84, 0]\n",
      "       constr_nhev: [0, 0, 0, 0, 0]\n",
      "       constr_njev: [0, 0, 0, 0, 0]\n",
      "    constr_penalty: 1.0\n",
      "  constr_violation: 0.0\n",
      "    execution_time: 0.08343386650085449\n",
      "               fun: -42677.548880693554\n",
      "              grad: array([   8.        ,    2.        , -196.99964613, -790.9999668 ,\n",
      "        -52.13309541])\n",
      "               jac: [array([[-1.        , -1.        , -0.99999999, -1.        , -1.        ]]), array([[-1.        , -2.        , -2.00000009, -0.99999998, -5.99999972]]), array([[-2.        , -1.        , -5.99999997,  0.        ,  0.        ]]), array([[ 0.        ,  0.        , -1.00000004, -1.        , -5.        ]]), array([[1., 0., 0., 0., 0.],\n",
      "       [0., 1., 0., 0., 0.],\n",
      "       [0., 0., 1., 0., 0.],\n",
      "       [0., 0., 0., 1., 0.],\n",
      "       [0., 0., 0., 0., 1.]])]\n",
      "   lagrangian_grad: array([-9.16075749e-09,  4.56559235e-10,  2.52636938e-09, -8.73455974e-10,\n",
      "        6.18048304e-10])\n",
      "           message: '`gtol` termination condition is satisfied.'\n",
      "            method: 'tr_interior_point'\n",
      "              nfev: 84\n",
      "              nhev: 0\n",
      "               nit: 16\n",
      "             niter: 16\n",
      "              njev: 0\n",
      "        optimality: 9.160757485915383e-09\n",
      "            status: 1\n",
      "           success: True\n",
      "         tr_radius: 6462.537623468465\n",
      "                 v: [array([-1.57397722e-05]), array([-7.23152673e-06]), array([-31.09550308]), array([-10.42665701]), array([-7.01910291e+01, -3.30955333e+01, -5.90865685e-05,  7.80573287e+02,\n",
      "       -2.48766054e-04])]\n",
      "                 x: array([5.45968221e-05, 1.20976110e-04, 3.33332734e+01, 9.89999947e+01,\n",
      "       1.35332699e+01])\n"
     ]
    }
   ],
   "source": [
    "lst = [50,2,93,92,20]\n",
    "cons = con()\n",
    "bounds = ((0, 99),(0, 99),(0, 99),(0, 99),(0, 99))\n",
    "x0 = np.array(lst)\n",
    "# 没有newton-cg, dogleg, 'trust-ncg', 'trust-exact', 'trust-krylov', 'Nelder-Mead', 'Powell', 'CG', 'BFGS', 'COBYLA'\n",
    "methods = [ 'L-BFGS-B', 'TNC', 'SLSQP', 'trust-constr']\n",
    "for method in methods:\n",
    "    print(\"|______________________________________________________|\")\n",
    "    print(method)\n",
    "    res = minimize(fun(), x0, method=method, bounds=bounds, constraints=cons)\n",
    "    print(res)"
   ]
  },
  {
   "cell_type": "code",
   "execution_count": null,
   "metadata": {},
   "outputs": [],
   "source": []
  }
 ],
 "metadata": {
  "kernelspec": {
   "display_name": "Python 3",
   "language": "python",
   "name": "python3"
  },
  "language_info": {
   "codemirror_mode": {
    "name": "ipython",
    "version": 3
   },
   "file_extension": ".py",
   "mimetype": "text/x-python",
   "name": "python",
   "nbconvert_exporter": "python",
   "pygments_lexer": "ipython3",
   "version": "3.7.4"
  }
 },
 "nbformat": 4,
 "nbformat_minor": 2
}
