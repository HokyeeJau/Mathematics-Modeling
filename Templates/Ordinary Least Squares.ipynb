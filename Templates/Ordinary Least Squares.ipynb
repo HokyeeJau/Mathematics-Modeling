{
 "cells": [
  {
   "cell_type": "markdown",
   "metadata": {},
   "source": [
    "#### LHS\n",
    "|Name|Value|Explanation|\n",
    "|:---|:---|:---|\n",
    "|Dep. Variable|Rent|which variable is the response in the model|\n",
    "|Model|OLS|What model you are using in the fit|\n",
    "|Method|Least Squares|How the parameters of the model were calculated|\n",
    "|Data|Sat,31 Oct 2015|Date|\n",
    "|Time|13:44:15|Time|\n",
    "|No.Observations|262|The number of observations(examples)|\n",
    "|DF Residuals|227|Degrees of freedeom of the residuals. Numbers of observations-number of parameters|\n",
    "|Df Model:|34|Parameters in Model = raws of coef(does not conclude constant parameters)|\n",
    "\n",
    "#### RHS\n",
    "|Name|Value|Explanation|\n",
    "|:---|:---|:---|\n",
    "|R-squared|0.377|The coeff of determination. A statistical measure of how well the regression line approximates the real data points|\n",
    "|Adj.R-squared|0.283|The above value adjusted based on the number of observations and the degrees-of-freedom of the residuals|\n",
    "|F-statistic|4.034|A measure how significant the fit is. The mean squared error of the model divided by the mean squared error of the residuals.|\n",
    "|Prob(F-statistical)|||\n",
    "|Log-likelihood|||\n",
    "|AIC||Akaike Information Criterion AIC=2k+nln(SSR/n|\n",
    "|BIC|||\n",
    "\n",
    "- P-Value: 当参数等于0时(P>|t|), 小于5%为显著，小于1%为极显著，大于5%为不显著，不显著时可以抛弃此参数\n",
    "- [0.025, 0.975]: 置信区间，95%的情况下，数值都在对应的interval内"
   ]
  },
  {
   "cell_type": "markdown",
   "metadata": {},
   "source": [
    "# Ordinary Least Squares"
   ]
  },
  {
   "cell_type": "code",
   "execution_count": 1,
   "metadata": {},
   "outputs": [],
   "source": [
    "%matplotlib inline"
   ]
  },
  {
   "cell_type": "code",
   "execution_count": 2,
   "metadata": {},
   "outputs": [],
   "source": [
    "import numpy as np\n",
    "import statsmodels.api as sm\n",
    "import matplotlib.pyplot as plt\n",
    "from statsmodels.sandbox.regression.predstd import wls_prediction_std\n",
    "np.random.seed(9876789)"
   ]
  },
  {
   "cell_type": "markdown",
   "metadata": {},
   "source": [
    "## OLS estimation"
   ]
  },
  {
   "cell_type": "code",
   "execution_count": 3,
   "metadata": {},
   "outputs": [],
   "source": [
    "# Artificial data\n",
    "\n",
    "nsample = 100\n",
    "x = np.linspace(0, 10, 100)\n",
    "X = np.column_stack((x, x**2))\n",
    "beta = np.array([1, 0.1, 10])\n",
    "e = np.random.normal(size=nsample)"
   ]
  },
  {
   "cell_type": "code",
   "execution_count": 4,
   "metadata": {},
   "outputs": [],
   "source": [
    "# our model needs an intercept so we add a column of 1s\n",
    "# y = a0 + a1*x1 + a2*x2\n",
    "X = sm.add_constant(X)\n",
    "y = np.dot(X, beta) + e"
   ]
  },
  {
   "cell_type": "code",
   "execution_count": 5,
   "metadata": {},
   "outputs": [
    {
     "name": "stdout",
     "output_type": "stream",
     "text": [
      "x:  [ 0.          0.1010101   0.2020202   0.3030303   0.4040404   0.50505051\n",
      "  0.60606061  0.70707071  0.80808081  0.90909091  1.01010101  1.11111111\n",
      "  1.21212121  1.31313131  1.41414141  1.51515152  1.61616162  1.71717172\n",
      "  1.81818182  1.91919192  2.02020202  2.12121212  2.22222222  2.32323232\n",
      "  2.42424242  2.52525253  2.62626263  2.72727273  2.82828283  2.92929293\n",
      "  3.03030303  3.13131313  3.23232323  3.33333333  3.43434343  3.53535354\n",
      "  3.63636364  3.73737374  3.83838384  3.93939394  4.04040404  4.14141414\n",
      "  4.24242424  4.34343434  4.44444444  4.54545455  4.64646465  4.74747475\n",
      "  4.84848485  4.94949495  5.05050505  5.15151515  5.25252525  5.35353535\n",
      "  5.45454545  5.55555556  5.65656566  5.75757576  5.85858586  5.95959596\n",
      "  6.06060606  6.16161616  6.26262626  6.36363636  6.46464646  6.56565657\n",
      "  6.66666667  6.76767677  6.86868687  6.96969697  7.07070707  7.17171717\n",
      "  7.27272727  7.37373737  7.47474747  7.57575758  7.67676768  7.77777778\n",
      "  7.87878788  7.97979798  8.08080808  8.18181818  8.28282828  8.38383838\n",
      "  8.48484848  8.58585859  8.68686869  8.78787879  8.88888889  8.98989899\n",
      "  9.09090909  9.19191919  9.29292929  9.39393939  9.49494949  9.5959596\n",
      "  9.6969697   9.7979798   9.8989899  10.        ]\n",
      "\n",
      "X:  [[1.00000000e+00 0.00000000e+00 0.00000000e+00]\n",
      " [1.00000000e+00 1.01010101e-01 1.02030405e-02]\n",
      " [1.00000000e+00 2.02020202e-01 4.08121620e-02]\n",
      " [1.00000000e+00 3.03030303e-01 9.18273646e-02]\n",
      " [1.00000000e+00 4.04040404e-01 1.63248648e-01]\n",
      " [1.00000000e+00 5.05050505e-01 2.55076013e-01]\n",
      " [1.00000000e+00 6.06060606e-01 3.67309458e-01]\n",
      " [1.00000000e+00 7.07070707e-01 4.99948985e-01]\n",
      " [1.00000000e+00 8.08080808e-01 6.52994592e-01]\n",
      " [1.00000000e+00 9.09090909e-01 8.26446281e-01]\n",
      " [1.00000000e+00 1.01010101e+00 1.02030405e+00]\n",
      " [1.00000000e+00 1.11111111e+00 1.23456790e+00]\n",
      " [1.00000000e+00 1.21212121e+00 1.46923783e+00]\n",
      " [1.00000000e+00 1.31313131e+00 1.72431385e+00]\n",
      " [1.00000000e+00 1.41414141e+00 1.99979594e+00]\n",
      " [1.00000000e+00 1.51515152e+00 2.29568411e+00]\n",
      " [1.00000000e+00 1.61616162e+00 2.61197837e+00]\n",
      " [1.00000000e+00 1.71717172e+00 2.94867871e+00]\n",
      " [1.00000000e+00 1.81818182e+00 3.30578512e+00]\n",
      " [1.00000000e+00 1.91919192e+00 3.68329762e+00]\n",
      " [1.00000000e+00 2.02020202e+00 4.08121620e+00]\n",
      " [1.00000000e+00 2.12121212e+00 4.49954086e+00]\n",
      " [1.00000000e+00 2.22222222e+00 4.93827160e+00]\n",
      " [1.00000000e+00 2.32323232e+00 5.39740843e+00]\n",
      " [1.00000000e+00 2.42424242e+00 5.87695133e+00]\n",
      " [1.00000000e+00 2.52525253e+00 6.37690032e+00]\n",
      " [1.00000000e+00 2.62626263e+00 6.89725538e+00]\n",
      " [1.00000000e+00 2.72727273e+00 7.43801653e+00]\n",
      " [1.00000000e+00 2.82828283e+00 7.99918376e+00]\n",
      " [1.00000000e+00 2.92929293e+00 8.58075707e+00]\n",
      " [1.00000000e+00 3.03030303e+00 9.18273646e+00]\n",
      " [1.00000000e+00 3.13131313e+00 9.80512193e+00]\n",
      " [1.00000000e+00 3.23232323e+00 1.04479135e+01]\n",
      " [1.00000000e+00 3.33333333e+00 1.11111111e+01]\n",
      " [1.00000000e+00 3.43434343e+00 1.17947148e+01]\n",
      " [1.00000000e+00 3.53535354e+00 1.24987246e+01]\n",
      " [1.00000000e+00 3.63636364e+00 1.32231405e+01]\n",
      " [1.00000000e+00 3.73737374e+00 1.39679625e+01]\n",
      " [1.00000000e+00 3.83838384e+00 1.47331905e+01]\n",
      " [1.00000000e+00 3.93939394e+00 1.55188246e+01]\n",
      " [1.00000000e+00 4.04040404e+00 1.63248648e+01]\n",
      " [1.00000000e+00 4.14141414e+00 1.71513111e+01]\n",
      " [1.00000000e+00 4.24242424e+00 1.79981635e+01]\n",
      " [1.00000000e+00 4.34343434e+00 1.88654219e+01]\n",
      " [1.00000000e+00 4.44444444e+00 1.97530864e+01]\n",
      " [1.00000000e+00 4.54545455e+00 2.06611570e+01]\n",
      " [1.00000000e+00 4.64646465e+00 2.15896337e+01]\n",
      " [1.00000000e+00 4.74747475e+00 2.25385165e+01]\n",
      " [1.00000000e+00 4.84848485e+00 2.35078053e+01]\n",
      " [1.00000000e+00 4.94949495e+00 2.44975003e+01]\n",
      " [1.00000000e+00 5.05050505e+00 2.55076013e+01]\n",
      " [1.00000000e+00 5.15151515e+00 2.65381084e+01]\n",
      " [1.00000000e+00 5.25252525e+00 2.75890215e+01]\n",
      " [1.00000000e+00 5.35353535e+00 2.86603408e+01]\n",
      " [1.00000000e+00 5.45454545e+00 2.97520661e+01]\n",
      " [1.00000000e+00 5.55555556e+00 3.08641975e+01]\n",
      " [1.00000000e+00 5.65656566e+00 3.19967350e+01]\n",
      " [1.00000000e+00 5.75757576e+00 3.31496786e+01]\n",
      " [1.00000000e+00 5.85858586e+00 3.43230283e+01]\n",
      " [1.00000000e+00 5.95959596e+00 3.55167840e+01]\n",
      " [1.00000000e+00 6.06060606e+00 3.67309458e+01]\n",
      " [1.00000000e+00 6.16161616e+00 3.79655137e+01]\n",
      " [1.00000000e+00 6.26262626e+00 3.92204877e+01]\n",
      " [1.00000000e+00 6.36363636e+00 4.04958678e+01]\n",
      " [1.00000000e+00 6.46464646e+00 4.17916539e+01]\n",
      " [1.00000000e+00 6.56565657e+00 4.31078461e+01]\n",
      " [1.00000000e+00 6.66666667e+00 4.44444444e+01]\n",
      " [1.00000000e+00 6.76767677e+00 4.58014488e+01]\n",
      " [1.00000000e+00 6.86868687e+00 4.71788593e+01]\n",
      " [1.00000000e+00 6.96969697e+00 4.85766758e+01]\n",
      " [1.00000000e+00 7.07070707e+00 4.99948985e+01]\n",
      " [1.00000000e+00 7.17171717e+00 5.14335272e+01]\n",
      " [1.00000000e+00 7.27272727e+00 5.28925620e+01]\n",
      " [1.00000000e+00 7.37373737e+00 5.43720029e+01]\n",
      " [1.00000000e+00 7.47474747e+00 5.58718498e+01]\n",
      " [1.00000000e+00 7.57575758e+00 5.73921028e+01]\n",
      " [1.00000000e+00 7.67676768e+00 5.89327620e+01]\n",
      " [1.00000000e+00 7.77777778e+00 6.04938272e+01]\n",
      " [1.00000000e+00 7.87878788e+00 6.20752984e+01]\n",
      " [1.00000000e+00 7.97979798e+00 6.36771758e+01]\n",
      " [1.00000000e+00 8.08080808e+00 6.52994592e+01]\n",
      " [1.00000000e+00 8.18181818e+00 6.69421488e+01]\n",
      " [1.00000000e+00 8.28282828e+00 6.86052444e+01]\n",
      " [1.00000000e+00 8.38383838e+00 7.02887460e+01]\n",
      " [1.00000000e+00 8.48484848e+00 7.19926538e+01]\n",
      " [1.00000000e+00 8.58585859e+00 7.37169677e+01]\n",
      " [1.00000000e+00 8.68686869e+00 7.54616876e+01]\n",
      " [1.00000000e+00 8.78787879e+00 7.72268136e+01]\n",
      " [1.00000000e+00 8.88888889e+00 7.90123457e+01]\n",
      " [1.00000000e+00 8.98989899e+00 8.08182838e+01]\n",
      " [1.00000000e+00 9.09090909e+00 8.26446281e+01]\n",
      " [1.00000000e+00 9.19191919e+00 8.44913784e+01]\n",
      " [1.00000000e+00 9.29292929e+00 8.63585348e+01]\n",
      " [1.00000000e+00 9.39393939e+00 8.82460973e+01]\n",
      " [1.00000000e+00 9.49494949e+00 9.01540659e+01]\n",
      " [1.00000000e+00 9.59595960e+00 9.20824406e+01]\n",
      " [1.00000000e+00 9.69696970e+00 9.40312213e+01]\n",
      " [1.00000000e+00 9.79797980e+00 9.60004081e+01]\n",
      " [1.00000000e+00 9.89898990e+00 9.79900010e+01]\n",
      " [1.00000000e+00 1.00000000e+01 1.00000000e+02]]\n",
      "\n",
      "x**2:  [0.00000000e+00 1.02030405e-02 4.08121620e-02 9.18273646e-02\n",
      " 1.63248648e-01 2.55076013e-01 3.67309458e-01 4.99948985e-01\n",
      " 6.52994592e-01 8.26446281e-01 1.02030405e+00 1.23456790e+00\n",
      " 1.46923783e+00 1.72431385e+00 1.99979594e+00 2.29568411e+00\n",
      " 2.61197837e+00 2.94867871e+00 3.30578512e+00 3.68329762e+00\n",
      " 4.08121620e+00 4.49954086e+00 4.93827160e+00 5.39740843e+00\n",
      " 5.87695133e+00 6.37690032e+00 6.89725538e+00 7.43801653e+00\n",
      " 7.99918376e+00 8.58075707e+00 9.18273646e+00 9.80512193e+00\n",
      " 1.04479135e+01 1.11111111e+01 1.17947148e+01 1.24987246e+01\n",
      " 1.32231405e+01 1.39679625e+01 1.47331905e+01 1.55188246e+01\n",
      " 1.63248648e+01 1.71513111e+01 1.79981635e+01 1.88654219e+01\n",
      " 1.97530864e+01 2.06611570e+01 2.15896337e+01 2.25385165e+01\n",
      " 2.35078053e+01 2.44975003e+01 2.55076013e+01 2.65381084e+01\n",
      " 2.75890215e+01 2.86603408e+01 2.97520661e+01 3.08641975e+01\n",
      " 3.19967350e+01 3.31496786e+01 3.43230283e+01 3.55167840e+01\n",
      " 3.67309458e+01 3.79655137e+01 3.92204877e+01 4.04958678e+01\n",
      " 4.17916539e+01 4.31078461e+01 4.44444444e+01 4.58014488e+01\n",
      " 4.71788593e+01 4.85766758e+01 4.99948985e+01 5.14335272e+01\n",
      " 5.28925620e+01 5.43720029e+01 5.58718498e+01 5.73921028e+01\n",
      " 5.89327620e+01 6.04938272e+01 6.20752984e+01 6.36771758e+01\n",
      " 6.52994592e+01 6.69421488e+01 6.86052444e+01 7.02887460e+01\n",
      " 7.19926538e+01 7.37169677e+01 7.54616876e+01 7.72268136e+01\n",
      " 7.90123457e+01 8.08182838e+01 8.26446281e+01 8.44913784e+01\n",
      " 8.63585348e+01 8.82460973e+01 9.01540659e+01 9.20824406e+01\n",
      " 9.40312213e+01 9.60004081e+01 9.79900010e+01 1.00000000e+02]\n",
      "\n",
      "beta:  [ 1.   0.1 10. ]\n",
      "\n",
      "e:  [-0.84051589  1.59749526  0.46554204 -0.50815894  2.9343057   0.41289442\n",
      " -0.94327249 -0.57123425  0.32858663 -0.0366525   0.31112907 -0.37669932\n",
      "  0.77808263  0.68679035  1.13861032 -1.81097906  1.79143041 -1.14101066\n",
      "  0.1509316  -1.12517637 -0.48275237  0.30494993 -1.84273534  0.25853029\n",
      "  0.38763454  1.86902659  0.79214331  0.13115781  1.95611929  0.90628723\n",
      " -0.66993563  1.50468525 -0.80159745  0.63443322 -0.63948555  0.01666895\n",
      " -0.91296139 -1.92184982 -1.27844098 -0.47279903 -0.55563717  0.76092128\n",
      "  0.4153819  -1.19774989  0.37679027  2.16159889 -0.71984746  1.21728985\n",
      "  0.52372572 -1.03490772 -0.32784716 -0.62777984 -0.02704057  0.69709085\n",
      " -1.07004579  1.02823293 -1.31037458  1.42819204 -0.31421789 -1.85161717\n",
      "  0.69924406 -1.65204921 -2.22070116  1.11719669 -0.09771428 -0.20044925\n",
      "  0.86762984 -0.32157153 -0.87503573 -0.52703233 -0.45011847  0.19653079\n",
      " -0.27747697  0.62706982  1.64574471  0.13979704 -1.20527944 -1.05775982\n",
      " -0.60213972 -0.08799062 -0.25490858  1.37939434  0.56454321  0.15463609\n",
      " -1.01332232  0.99502804 -0.36259333  1.60857284 -1.14339419  0.04236761\n",
      " -0.6846056  -0.68701473  1.67505239 -0.13081637 -1.2994341   0.42175578\n",
      "  2.07559894 -1.4370644   0.14809253 -1.86314651]\n",
      "\n",
      "y:  [1.59484106e-01 2.70962667e+00 1.89386568e+00 1.44041774e+00\n",
      " 5.60719622e+00 4.01415960e+00 3.79042816e+00 5.49896267e+00\n",
      " 7.93934063e+00 9.31871940e+00 1.16151797e+01 1.30800908e+01\n",
      " 1.65916731e+01 1.90612419e+01 2.22779839e+01 2.22973772e+01\n",
      " 2.90728303e+01 2.95174936e+01 3.43906010e+01 3.68997190e+01\n",
      " 4.15314299e+01 4.65124798e+01 4.87622029e+01 5.54649378e+01\n",
      " 6.03995721e+01 6.68905550e+01 7.10273234e+01 7.57840504e+01\n",
      " 8.32307851e+01 8.80067872e+01 9.24604592e+01 1.00869036e+02\n",
      " 1.05000770e+02 1.13078878e+02 1.18651097e+02 1.26357451e+02\n",
      " 1.32682080e+02 1.39131512e+02 1.47437302e+02 1.56109386e+02\n",
      " 1.64097051e+02 1.73688174e+02 1.81821259e+02 1.88890813e+02\n",
      " 1.99352099e+02 2.10227715e+02 2.16641136e+02 2.28077202e+02\n",
      " 2.37086627e+02 2.45435044e+02 2.56253216e+02 2.66268455e+02\n",
      " 2.77388427e+02 2.88835852e+02 2.97996070e+02 3.11225764e+02\n",
      " 3.20222632e+02 3.34500736e+02 3.44501923e+02 3.54912182e+02\n",
      " 3.69614763e+02 3.79619250e+02 3.91610439e+02 4.07712238e+02\n",
      " 4.19465289e+02 4.32534578e+02 4.46978741e+02 4.59369684e+02\n",
      " 4.72600426e+02 4.86936696e+02 5.01205937e+02 5.16248974e+02\n",
      " 5.30375416e+02 5.46084472e+02 5.62111718e+02 5.75818401e+02\n",
      " 5.89890017e+02 6.05658290e+02 6.21938723e+02 6.38481747e+02\n",
      " 6.54547765e+02 6.72619064e+02 6.88445270e+02 7.04880480e+02\n",
      " 7.20761701e+02 7.40023290e+02 7.56122969e+02 7.75755497e+02\n",
      " 7.90868951e+02 8.10124196e+02 8.27670766e+02 8.46145961e+02\n",
      " 8.67189694e+02 8.84269551e+02 9.02190720e+02 9.23205757e+02\n",
      " 9.44357509e+02 9.60546815e+02 9.82038002e+02 1.00013685e+03]\n"
     ]
    }
   ],
   "source": [
    "print(\"x: \",x)\n",
    "print(\"\\nX: \", X)\n",
    "print(\"\\nx**2: \", x**2)\n",
    "print(\"\\nbeta: \", beta)\n",
    "print(\"\\ne: \", e)\n",
    "print(\"\\ny: \",y)"
   ]
  },
  {
   "cell_type": "code",
   "execution_count": 6,
   "metadata": {},
   "outputs": [
    {
     "name": "stdout",
     "output_type": "stream",
     "text": [
      "                            OLS Regression Results                            \n",
      "==============================================================================\n",
      "Dep. Variable:                      y   R-squared:                       1.000\n",
      "Model:                            OLS   Adj. R-squared:                  1.000\n",
      "Method:                 Least Squares   F-statistic:                 4.020e+06\n",
      "Date:                Mon, 20 Apr 2020   Prob (F-statistic):          2.83e-239\n",
      "Time:                        19:51:37   Log-Likelihood:                -146.51\n",
      "No. Observations:                 100   AIC:                             299.0\n",
      "Df Residuals:                      97   BIC:                             306.8\n",
      "Df Model:                           2                                         \n",
      "Covariance Type:            nonrobust                                         \n",
      "==============================================================================\n",
      "                 coef    std err          t      P>|t|      [0.025      0.975]\n",
      "------------------------------------------------------------------------------\n",
      "const          1.3423      0.313      4.292      0.000       0.722       1.963\n",
      "x1            -0.0402      0.145     -0.278      0.781      -0.327       0.247\n",
      "x2            10.0103      0.014    715.745      0.000       9.982      10.038\n",
      "==============================================================================\n",
      "Omnibus:                        2.042   Durbin-Watson:                   2.274\n",
      "Prob(Omnibus):                  0.360   Jarque-Bera (JB):                1.875\n",
      "Skew:                           0.234   Prob(JB):                        0.392\n",
      "Kurtosis:                       2.519   Cond. No.                         144.\n",
      "==============================================================================\n",
      "\n",
      "Warnings:\n",
      "[1] Standard Errors assume that the covariance matrix of the errors is correctly specified.\n"
     ]
    }
   ],
   "source": [
    "# Fit and summary\n",
    "model = sm.OLS(y, X)\n",
    "results = model.fit()\n",
    "print(results.summary())"
   ]
  },
  {
   "cell_type": "code",
   "execution_count": 7,
   "metadata": {},
   "outputs": [
    {
     "name": "stdout",
     "output_type": "stream",
     "text": [
      "Parameters:  [ 1.34233516 -0.04024948 10.01025357]\n",
      "R2:  0.9999879365025871\n"
     ]
    }
   ],
   "source": [
    "print(\"Parameters: \", results.params)\n",
    "print(\"R2: \", results.rsquared)"
   ]
  },
  {
   "cell_type": "code",
   "execution_count": 10,
   "metadata": {},
   "outputs": [
    {
     "data": {
      "image/png": "[encoded data removed]",
      "text/plain": [
       "<Figure size 576x432 with 1 Axes>"
      ]
     },
     "metadata": {
      "needs_background": "light"
     },
     "output_type": "display_data"
    }
   ],
   "source": [
    "prstd, iv_l, iv_u = wls_prediction_std(results)\n",
    "\n",
    "fig, ax = plt.subplots(figsize=(8,6))\n",
    "\n",
    "ax.plot(x, y, 'o', label='data')\n",
    "# ax.plot(x, y_true, 'b-', label='True')\n",
    "ax.plot(x, results.fittedvalues, 'r--', label='OLS')\n",
    "ax.plot(x, iv_u, 'r--')\n",
    "ax.plot(x, iv_l, 'r--')\n",
    "ax.legend(loc='best');"
   ]
  },
  {
   "cell_type": "markdown",
   "metadata": {},
   "source": [
    "## OLS non-linear curve but linear in parameters"
   ]
  },
  {
   "cell_type": "code",
   "execution_count": 11,
   "metadata": {},
   "outputs": [],
   "source": [
    "# with simulate artificial data with a non-linear relationship between a and y\n",
    "nsample = 50\n",
    "sig = 0.5\n",
    "x = np.linspace(0, 20 , nsample)\n",
    "X = np.column_stack((x, np.sin(x), (x-5)**2, np.ones(nsample)))\n",
    "beta = [0.5, 0.5, -0.02, 5.]\n",
    "\n",
    "y_true = np.dot(X, beta)\n",
    "y = y_true + sig*np.random.normal(size=nsample)"
   ]
  },
  {
   "cell_type": "code",
   "execution_count": 12,
   "metadata": {},
   "outputs": [
    {
     "name": "stdout",
     "output_type": "stream",
     "text": [
      "                            OLS Regression Results                            \n",
      "==============================================================================\n",
      "Dep. Variable:                      y   R-squared:                       0.933\n",
      "Model:                            OLS   Adj. R-squared:                  0.928\n",
      "Method:                 Least Squares   F-statistic:                     211.8\n",
      "Date:                Mon, 20 Apr 2020   Prob (F-statistic):           6.30e-27\n",
      "Time:                        19:54:17   Log-Likelihood:                -34.438\n",
      "No. Observations:                  50   AIC:                             76.88\n",
      "Df Residuals:                      46   BIC:                             84.52\n",
      "Df Model:                           3                                         \n",
      "Covariance Type:            nonrobust                                         \n",
      "==============================================================================\n",
      "                 coef    std err          t      P>|t|      [0.025      0.975]\n",
      "------------------------------------------------------------------------------\n",
      "x1             0.4687      0.026     17.751      0.000       0.416       0.522\n",
      "x2             0.4836      0.104      4.659      0.000       0.275       0.693\n",
      "x3            -0.0174      0.002     -7.507      0.000      -0.022      -0.013\n",
      "const          5.2058      0.171     30.405      0.000       4.861       5.550\n",
      "==============================================================================\n",
      "Omnibus:                        0.655   Durbin-Watson:                   2.896\n",
      "Prob(Omnibus):                  0.721   Jarque-Bera (JB):                0.360\n",
      "Skew:                           0.207   Prob(JB):                        0.835\n",
      "Kurtosis:                       3.026   Cond. No.                         221.\n",
      "==============================================================================\n",
      "\n",
      "Warnings:\n",
      "[1] Standard Errors assume that the covariance matrix of the errors is correctly specified.\n"
     ]
    }
   ],
   "source": [
    "res = sm.OLS(y, X).fit()\n",
    "print(res.summary())"
   ]
  },
  {
   "cell_type": "code",
   "execution_count": 13,
   "metadata": {},
   "outputs": [
    {
     "name": "stdout",
     "output_type": "stream",
     "text": [
      "Parameters:  [ 0.46872448  0.48360119 -0.01740479  5.20584496]\n",
      "Standard errors:  [0.02640602 0.10380518 0.00231847 0.17121765]\n",
      "Predicted values:  [ 4.77072516  5.22213464  5.63620761  5.98658823  6.25643234  6.44117491\n",
      "  6.54928009  6.60085051  6.62432454  6.6518039   6.71377946  6.83412169\n",
      "  7.02615877  7.29048685  7.61487206  7.97626054  8.34456611  8.68761335\n",
      "  8.97642389  9.18997755  9.31866582  9.36587056  9.34740836  9.28893189\n",
      "  9.22171529  9.17751587  9.1833565   9.25708583  9.40444579  9.61812821\n",
      "  9.87897556 10.15912843 10.42660281 10.65054491 10.8063004  10.87946503\n",
      " 10.86825119 10.78378163 10.64826203 10.49133265 10.34519853 10.23933827\n",
      " 10.19566084 10.22490593 10.32487947 10.48081414 10.66779556 10.85485568\n",
      " 11.01006072 11.10575781]\n"
     ]
    }
   ],
   "source": [
    "# Extract other quantities of interest\n",
    "print(\"Parameters: \", res.params)\n",
    "print(\"Standard errors: \", res.bse)\n",
    "print(\"Predicted values: \", res.predict())"
   ]
  },
  {
   "cell_type": "code",
   "execution_count": 14,
   "metadata": {},
   "outputs": [
    {
     "data": {
      "image/png": "[encoded data removed]",
      "text/plain": [
       "<Figure size 576x432 with 1 Axes>"
      ]
     },
     "metadata": {
      "needs_background": "light"
     },
     "output_type": "display_data"
    }
   ],
   "source": [
    "# Draw a plot to compare the true relationships to OLS predictions.\n",
    "# Confidence intervals around the predictions are built using the \n",
    "# wls_prediction_std command\n",
    "prstd, iv_l, iv_u = wls_prediction_std(res)\n",
    "\n",
    "fig, ax = plt.subplots(figsize=(8,6))\n",
    "\n",
    "ax.plot(x, y, 'o', label='data')\n",
    "ax.plot(x, y_true, 'b-', label='True')\n",
    "ax.plot(x, res.fittedvalues, 'r--', label='OLS')\n",
    "ax.plot(x, iv_u, 'r--')\n",
    "ax.plot(x, iv_l, 'r--')\n",
    "ax.legend(loc='best');"
   ]
  },
  {
   "cell_type": "markdown",
   "metadata": {},
   "source": [
    "## OLS with dummy variables"
   ]
  },
  {
   "cell_type": "code",
   "execution_count": 15,
   "metadata": {},
   "outputs": [
    {
     "data": {
      "text/plain": [
       "array([0, 0, 0, 0, 0, 0, 0, 0, 0, 0, 0, 0, 0, 0, 0, 0, 0, 0, 0, 0, 0, 0,\n",
       "       0, 0, 0, 0, 0, 0, 0, 0, 0, 0, 0, 0, 0, 0, 0, 0, 0, 0, 0, 0, 0, 0,\n",
       "       0, 0, 0, 0, 0, 0])"
      ]
     },
     "execution_count": 15,
     "metadata": {},
     "output_type": "execute_result"
    }
   ],
   "source": [
    "nsample = 50\n",
    "groups = np.zeros(nsample, int)\n",
    "groups"
   ]
  },
  {
   "cell_type": "code",
   "execution_count": 16,
   "metadata": {},
   "outputs": [],
   "source": [
    "groups[20:40] = 1\n",
    "groups[40:] = 2\n",
    "# dummy = (groups[:, None] == np.unique(groups).astype(float))\n",
    "\n",
    "dummy = sm.categorical(groups, drop=True)\n",
    "x = np.linspace(0, 20, nsample)\n",
    "\n",
    "# drop reference category\n",
    "X = np.column_stack((x, dummy[:,1:]))\n",
    "X = sm.add_constant(X, prepend=False)\n",
    "\n",
    "beta = [1., 3, -3, 10]\n",
    "y_true = np.dot(X, beta)\n",
    "e = np.random.normal(size=nsample)\n",
    "y = y_true + e"
   ]
  },
  {
   "cell_type": "code",
   "execution_count": 17,
   "metadata": {},
   "outputs": [
    {
     "name": "stdout",
     "output_type": "stream",
     "text": [
      "[[0.         0.         0.         1.        ]\n",
      " [0.40816327 0.         0.         1.        ]\n",
      " [0.81632653 0.         0.         1.        ]\n",
      " [1.2244898  0.         0.         1.        ]\n",
      " [1.63265306 0.         0.         1.        ]]\n",
      "[ 9.28223335 10.50481865 11.84389206 10.38508408 12.37941998]\n",
      "[0 0 0 0 0 0 0 0 0 0 0 0 0 0 0 0 0 0 0 0 1 1 1 1 1 1 1 1 1 1 1 1 1 1 1 1 1\n",
      " 1 1 1 2 2 2 2 2 2 2 2 2 2]\n",
      "[[1. 0. 0.]\n",
      " [1. 0. 0.]\n",
      " [1. 0. 0.]\n",
      " [1. 0. 0.]\n",
      " [1. 0. 0.]]\n"
     ]
    }
   ],
   "source": [
    "# Inspect the data:\n",
    "print(X[:5, :])\n",
    "print(y[:5])\n",
    "print(groups)\n",
    "print(dummy[:5, :])"
   ]
  },
  {
   "cell_type": "code",
   "execution_count": 18,
   "metadata": {},
   "outputs": [
    {
     "name": "stdout",
     "output_type": "stream",
     "text": [
      "                            OLS Regression Results                            \n",
      "==============================================================================\n",
      "Dep. Variable:                      y   R-squared:                       0.978\n",
      "Model:                            OLS   Adj. R-squared:                  0.976\n",
      "Method:                 Least Squares   F-statistic:                     671.7\n",
      "Date:                Mon, 20 Apr 2020   Prob (F-statistic):           5.69e-38\n",
      "Time:                        20:18:24   Log-Likelihood:                -64.643\n",
      "No. Observations:                  50   AIC:                             137.3\n",
      "Df Residuals:                      46   BIC:                             144.9\n",
      "Df Model:                           3                                         \n",
      "Covariance Type:            nonrobust                                         \n",
      "==============================================================================\n",
      "                 coef    std err          t      P>|t|      [0.025      0.975]\n",
      "------------------------------------------------------------------------------\n",
      "x1             0.9999      0.060     16.689      0.000       0.879       1.121\n",
      "x2             2.8909      0.569      5.081      0.000       1.746       4.036\n",
      "x3            -3.2232      0.927     -3.477      0.001      -5.089      -1.357\n",
      "const         10.1031      0.310     32.573      0.000       9.479      10.727\n",
      "==============================================================================\n",
      "Omnibus:                        2.831   Durbin-Watson:                   1.998\n",
      "Prob(Omnibus):                  0.243   Jarque-Bera (JB):                1.927\n",
      "Skew:                          -0.279   Prob(JB):                        0.382\n",
      "Kurtosis:                       2.217   Cond. No.                         96.3\n",
      "==============================================================================\n",
      "\n",
      "Warnings:\n",
      "[1] Standard Errors assume that the covariance matrix of the errors is correctly specified.\n"
     ]
    }
   ],
   "source": [
    "# Find and summary:\n",
    "res2 = sm.OLS(y, X).fit()\n",
    "print(res2.summary())"
   ]
  },
  {
   "cell_type": "code",
   "execution_count": 19,
   "metadata": {},
   "outputs": [
    {
     "data": {
      "image/png": "[encoded data removed]",
      "text/plain": [
       "<Figure size 576x432 with 1 Axes>"
      ]
     },
     "metadata": {
      "needs_background": "light"
     },
     "output_type": "display_data"
    }
   ],
   "source": [
    "\n",
    "prstd, iv_l, iv_u = wls_prediction_std(res2)\n",
    "\n",
    "fig, ax = plt.subplots(figsize=(8,6))\n",
    "\n",
    "ax.plot(x, y, 'o', label=\"Data\")\n",
    "ax.plot(x, y_true, 'b-', label=\"True\")\n",
    "ax.plot(x, res2.fittedvalues, 'r--.', label=\"Predicted\")\n",
    "ax.plot(x, iv_u, 'r--')\n",
    "ax.plot(x, iv_l, 'r--')\n",
    "legend = ax.legend(loc=\"best\")\n",
    "\n"
   ]
  },
  {
   "cell_type": "markdown",
   "metadata": {},
   "source": [
    "## Joint Hypothesis Test\n",
    "#### F test"
   ]
  },
  {
   "cell_type": "code",
   "execution_count": 20,
   "metadata": {},
   "outputs": [
    {
     "name": "stdout",
     "output_type": "stream",
     "text": [
      "[[0 1 0 0]\n",
      " [0 0 1 0]]\n",
      "<F test: F=array([[145.49268198]]), p=1.2834419617291377e-20, df_denom=46, df_num=2>\n"
     ]
    }
   ],
   "source": [
    "# We want to test the hypothesis that both coefficients on the dummy variables are equal to zero, \n",
    "# that is, 𝑅×𝛽=0. An F test leads us to strongly reject the null hypothesis of identical constant in the 3 groups\n",
    "R =[[0,1,0,0], [0,0,1,0]]\n",
    "print(np.array(R))\n",
    "print(res2.f_test(R))"
   ]
  },
  {
   "cell_type": "code",
   "execution_count": 21,
   "metadata": {},
   "outputs": [
    {
     "name": "stdout",
     "output_type": "stream",
     "text": [
      "<F test: F=array([[145.49268198]]), p=1.2834419617291078e-20, df_denom=46, df_num=2>\n"
     ]
    }
   ],
   "source": [
    "# You can also use formula-like syntax to test hypotheses\n",
    "print(res2.f_test(\"x2=x3=0\"))"
   ]
  },
  {
   "cell_type": "markdown",
   "metadata": {},
   "source": [
    "#### Small Group Effects"
   ]
  },
  {
   "cell_type": "code",
   "execution_count": 22,
   "metadata": {},
   "outputs": [],
   "source": [
    "\"\"\"\n",
    "If we generate artificial data with smaller group effects, \n",
    "the T test can no longer reject the Null hypothesis:\n",
    "\"\"\"\n",
    "heta = [1., 0.3, -0.0]\n",
    "y_true = np.dot(X, beta)\n",
    "y = y_true + np.random.normal(size=nsample)\n",
    "res3 = sm.OLS(y, X).fit()"
   ]
  },
  {
   "cell_type": "code",
   "execution_count": 23,
   "metadata": {},
   "outputs": [
    {
     "name": "stdout",
     "output_type": "stream",
     "text": [
      "<F test: F=array([[120.08623168]]), p=5.507947151389074e-19, df_denom=46, df_num=2>\n"
     ]
    }
   ],
   "source": [
    "print(res3.f_test(R))"
   ]
  },
  {
   "cell_type": "code",
   "execution_count": 24,
   "metadata": {},
   "outputs": [
    {
     "name": "stdout",
     "output_type": "stream",
     "text": [
      "<F test: F=array([[120.08623168]]), p=5.507947151389117e-19, df_denom=46, df_num=2>\n"
     ]
    }
   ],
   "source": [
    "print(res3.f_test(\"x2=x3=0\"))"
   ]
  },
  {
   "cell_type": "code",
   "execution_count": 25,
   "metadata": {},
   "outputs": [
    {
     "name": "stdout",
     "output_type": "stream",
     "text": [
      "<F test: F=array([[150.83432373]]), p=6.260701294877522e-21, df_denom=46, df_num=2>\n"
     ]
    }
   ],
   "source": [
    "print(res3.f_test(\"x2=0, x3=1\"))"
   ]
  },
  {
   "cell_type": "markdown",
   "metadata": {},
   "source": [
    "#### Mutlicollinearity"
   ]
  },
  {
   "cell_type": "code",
   "execution_count": 29,
   "metadata": {},
   "outputs": [
    {
     "data": {
      "text/html": [
       "<div>\n",
       "<style scoped>\n",
       "    .dataframe tbody tr th:only-of-type {\n",
       "        vertical-align: middle;\n",
       "    }\n",
       "\n",
       "    .dataframe tbody tr th {\n",
       "        vertical-align: top;\n",
       "    }\n",
       "\n",
       "    .dataframe thead th {\n",
       "        text-align: right;\n",
       "    }\n",
       "</style>\n",
       "<table border=\"1\" class=\"dataframe\">\n",
       "  <thead>\n",
       "    <tr style=\"text-align: right;\">\n",
       "      <th></th>\n",
       "      <th>const</th>\n",
       "      <th>GNPDEFL</th>\n",
       "      <th>GNP</th>\n",
       "      <th>UNEMP</th>\n",
       "      <th>ARMED</th>\n",
       "      <th>POP</th>\n",
       "      <th>YEAR</th>\n",
       "    </tr>\n",
       "  </thead>\n",
       "  <tbody>\n",
       "    <tr>\n",
       "      <td>0</td>\n",
       "      <td>1.0</td>\n",
       "      <td>83.0</td>\n",
       "      <td>234289.0</td>\n",
       "      <td>2356.0</td>\n",
       "      <td>1590.0</td>\n",
       "      <td>107608.0</td>\n",
       "      <td>1947.0</td>\n",
       "    </tr>\n",
       "    <tr>\n",
       "      <td>1</td>\n",
       "      <td>1.0</td>\n",
       "      <td>88.5</td>\n",
       "      <td>259426.0</td>\n",
       "      <td>2325.0</td>\n",
       "      <td>1456.0</td>\n",
       "      <td>108632.0</td>\n",
       "      <td>1948.0</td>\n",
       "    </tr>\n",
       "    <tr>\n",
       "      <td>2</td>\n",
       "      <td>1.0</td>\n",
       "      <td>88.2</td>\n",
       "      <td>258054.0</td>\n",
       "      <td>3682.0</td>\n",
       "      <td>1616.0</td>\n",
       "      <td>109773.0</td>\n",
       "      <td>1949.0</td>\n",
       "    </tr>\n",
       "    <tr>\n",
       "      <td>3</td>\n",
       "      <td>1.0</td>\n",
       "      <td>89.5</td>\n",
       "      <td>284599.0</td>\n",
       "      <td>3351.0</td>\n",
       "      <td>1650.0</td>\n",
       "      <td>110929.0</td>\n",
       "      <td>1950.0</td>\n",
       "    </tr>\n",
       "    <tr>\n",
       "      <td>4</td>\n",
       "      <td>1.0</td>\n",
       "      <td>96.2</td>\n",
       "      <td>328975.0</td>\n",
       "      <td>2099.0</td>\n",
       "      <td>3099.0</td>\n",
       "      <td>112075.0</td>\n",
       "      <td>1951.0</td>\n",
       "    </tr>\n",
       "  </tbody>\n",
       "</table>\n",
       "</div>"
      ],
      "text/plain": [
       "   const  GNPDEFL       GNP   UNEMP   ARMED       POP    YEAR\n",
       "0    1.0     83.0  234289.0  2356.0  1590.0  107608.0  1947.0\n",
       "1    1.0     88.5  259426.0  2325.0  1456.0  108632.0  1948.0\n",
       "2    1.0     88.2  258054.0  3682.0  1616.0  109773.0  1949.0\n",
       "3    1.0     89.5  284599.0  3351.0  1650.0  110929.0  1950.0\n",
       "4    1.0     96.2  328975.0  2099.0  3099.0  112075.0  1951.0"
      ]
     },
     "execution_count": 29,
     "metadata": {},
     "output_type": "execute_result"
    }
   ],
   "source": [
    "from statsmodels.datasets.longley import load_pandas\n",
    "# endogenous\n",
    "y = load_pandas().endog\n",
    "# exogenous\n",
    "X = load_pandas().exog\n",
    "X = sm.add_constant(X)\n",
    "\n",
    "X.head()"
   ]
  },
  {
   "cell_type": "code",
   "execution_count": 28,
   "metadata": {},
   "outputs": [
    {
     "name": "stdout",
     "output_type": "stream",
     "text": [
      "                            OLS Regression Results                            \n",
      "==============================================================================\n",
      "Dep. Variable:                 TOTEMP   R-squared:                       0.995\n",
      "Model:                            OLS   Adj. R-squared:                  0.992\n",
      "Method:                 Least Squares   F-statistic:                     330.3\n",
      "Date:                Mon, 20 Apr 2020   Prob (F-statistic):           4.98e-10\n",
      "Time:                        20:41:20   Log-Likelihood:                -109.62\n",
      "No. Observations:                  16   AIC:                             233.2\n",
      "Df Residuals:                       9   BIC:                             238.6\n",
      "Df Model:                           6                                         \n",
      "Covariance Type:            nonrobust                                         \n",
      "==============================================================================\n",
      "                 coef    std err          t      P>|t|      [0.025      0.975]\n",
      "------------------------------------------------------------------------------\n",
      "const      -3.482e+06    8.9e+05     -3.911      0.004    -5.5e+06   -1.47e+06\n",
      "GNPDEFL       15.0619     84.915      0.177      0.863    -177.029     207.153\n",
      "GNP           -0.0358      0.033     -1.070      0.313      -0.112       0.040\n",
      "UNEMP         -2.0202      0.488     -4.136      0.003      -3.125      -0.915\n",
      "ARMED         -1.0332      0.214     -4.822      0.001      -1.518      -0.549\n",
      "POP           -0.0511      0.226     -0.226      0.826      -0.563       0.460\n",
      "YEAR        1829.1515    455.478      4.016      0.003     798.788    2859.515\n",
      "==============================================================================\n",
      "Omnibus:                        0.749   Durbin-Watson:                   2.559\n",
      "Prob(Omnibus):                  0.688   Jarque-Bera (JB):                0.684\n",
      "Skew:                           0.420   Prob(JB):                        0.710\n",
      "Kurtosis:                       2.434   Cond. No.                     4.86e+09\n",
      "==============================================================================\n",
      "\n",
      "Warnings:\n",
      "[1] Standard Errors assume that the covariance matrix of the errors is correctly specified.\n",
      "[2] The condition number is large, 4.86e+09. This might indicate that there are\n",
      "strong multicollinearity or other numerical problems.\n"
     ]
    },
    {
     "name": "stderr",
     "output_type": "stream",
     "text": [
      "/opt/anaconda3/lib/python3.7/site-packages/scipy/stats/stats.py:1535: UserWarning: kurtosistest only valid for n>=20 ... continuing anyway, n=16\n",
      "  \"anyway, n=%i\" % int(n))\n"
     ]
    }
   ],
   "source": [
    "ols_model = sm.OLS(y, X)\n",
    "ols_results = ols_model.fit()\n",
    "print(ols_results.summary())"
   ]
  },
  {
   "cell_type": "markdown",
   "metadata": {},
   "source": [
    "#### Condition Number"
   ]
  },
  {
   "cell_type": "code",
   "execution_count": 33,
   "metadata": {},
   "outputs": [
    {
     "name": "stdout",
     "output_type": "stream",
     "text": [
      "1 GNPDEFL\n",
      "2 GNP\n",
      "3 UNEMP\n",
      "4 ARMED\n",
      "5 POP\n",
      "6 YEAR\n"
     ]
    }
   ],
   "source": [
    "# One way to assess multicollinearity is to compute the condition number.\n",
    "norm_x = X.values\n",
    "for i, name in enumerate(X):\n",
    "    if name == 'const':\n",
    "        continue\n",
    "    norm_x[:, i]  = X[name]/np.linalg.norm(X[name])\n",
    "norm_xtx = np.dot(norm_x.T, norm_x)"
   ]
  },
  {
   "cell_type": "code",
   "execution_count": 35,
   "metadata": {},
   "outputs": [
    {
     "data": {
      "text/html": [
       "<div>\n",
       "<style scoped>\n",
       "    .dataframe tbody tr th:only-of-type {\n",
       "        vertical-align: middle;\n",
       "    }\n",
       "\n",
       "    .dataframe tbody tr th {\n",
       "        vertical-align: top;\n",
       "    }\n",
       "\n",
       "    .dataframe thead th {\n",
       "        text-align: right;\n",
       "    }\n",
       "</style>\n",
       "<table border=\"1\" class=\"dataframe\">\n",
       "  <thead>\n",
       "    <tr style=\"text-align: right;\">\n",
       "      <th></th>\n",
       "      <th>const</th>\n",
       "      <th>GNPDEFL</th>\n",
       "      <th>GNP</th>\n",
       "      <th>UNEMP</th>\n",
       "      <th>ARMED</th>\n",
       "      <th>POP</th>\n",
       "      <th>YEAR</th>\n",
       "    </tr>\n",
       "  </thead>\n",
       "  <tbody>\n",
       "    <tr>\n",
       "      <td>0</td>\n",
       "      <td>1.0</td>\n",
       "      <td>0.203000</td>\n",
       "      <td>0.146627</td>\n",
       "      <td>0.177462</td>\n",
       "      <td>0.147639</td>\n",
       "      <td>0.228725</td>\n",
       "      <td>0.249040</td>\n",
       "    </tr>\n",
       "    <tr>\n",
       "      <td>1</td>\n",
       "      <td>1.0</td>\n",
       "      <td>0.216452</td>\n",
       "      <td>0.162359</td>\n",
       "      <td>0.175127</td>\n",
       "      <td>0.135197</td>\n",
       "      <td>0.230902</td>\n",
       "      <td>0.249168</td>\n",
       "    </tr>\n",
       "    <tr>\n",
       "      <td>2</td>\n",
       "      <td>1.0</td>\n",
       "      <td>0.215718</td>\n",
       "      <td>0.161500</td>\n",
       "      <td>0.277341</td>\n",
       "      <td>0.150054</td>\n",
       "      <td>0.233327</td>\n",
       "      <td>0.249296</td>\n",
       "    </tr>\n",
       "    <tr>\n",
       "      <td>3</td>\n",
       "      <td>1.0</td>\n",
       "      <td>0.218898</td>\n",
       "      <td>0.178113</td>\n",
       "      <td>0.252409</td>\n",
       "      <td>0.153211</td>\n",
       "      <td>0.235784</td>\n",
       "      <td>0.249424</td>\n",
       "    </tr>\n",
       "    <tr>\n",
       "      <td>4</td>\n",
       "      <td>1.0</td>\n",
       "      <td>0.235284</td>\n",
       "      <td>0.205885</td>\n",
       "      <td>0.158104</td>\n",
       "      <td>0.287758</td>\n",
       "      <td>0.238220</td>\n",
       "      <td>0.249552</td>\n",
       "    </tr>\n",
       "    <tr>\n",
       "      <td>5</td>\n",
       "      <td>1.0</td>\n",
       "      <td>0.239931</td>\n",
       "      <td>0.217165</td>\n",
       "      <td>0.145525</td>\n",
       "      <td>0.333721</td>\n",
       "      <td>0.240760</td>\n",
       "      <td>0.249680</td>\n",
       "    </tr>\n",
       "    <tr>\n",
       "      <td>6</td>\n",
       "      <td>1.0</td>\n",
       "      <td>0.242133</td>\n",
       "      <td>0.228672</td>\n",
       "      <td>0.140855</td>\n",
       "      <td>0.329357</td>\n",
       "      <td>0.244637</td>\n",
       "      <td>0.249807</td>\n",
       "    </tr>\n",
       "    <tr>\n",
       "      <td>7</td>\n",
       "      <td>1.0</td>\n",
       "      <td>0.244578</td>\n",
       "      <td>0.227249</td>\n",
       "      <td>0.269507</td>\n",
       "      <td>0.311064</td>\n",
       "      <td>0.247028</td>\n",
       "      <td>0.249935</td>\n",
       "    </tr>\n",
       "    <tr>\n",
       "      <td>8</td>\n",
       "      <td>1.0</td>\n",
       "      <td>0.247513</td>\n",
       "      <td>0.248751</td>\n",
       "      <td>0.218739</td>\n",
       "      <td>0.283022</td>\n",
       "      <td>0.249513</td>\n",
       "      <td>0.250063</td>\n",
       "    </tr>\n",
       "    <tr>\n",
       "      <td>9</td>\n",
       "      <td>1.0</td>\n",
       "      <td>0.255829</td>\n",
       "      <td>0.262339</td>\n",
       "      <td>0.212563</td>\n",
       "      <td>0.265287</td>\n",
       "      <td>0.252374</td>\n",
       "      <td>0.250191</td>\n",
       "    </tr>\n",
       "    <tr>\n",
       "      <td>10</td>\n",
       "      <td>1.0</td>\n",
       "      <td>0.265123</td>\n",
       "      <td>0.277102</td>\n",
       "      <td>0.221150</td>\n",
       "      <td>0.259808</td>\n",
       "      <td>0.256011</td>\n",
       "      <td>0.250319</td>\n",
       "    </tr>\n",
       "    <tr>\n",
       "      <td>11</td>\n",
       "      <td>1.0</td>\n",
       "      <td>0.270993</td>\n",
       "      <td>0.278214</td>\n",
       "      <td>0.352589</td>\n",
       "      <td>0.244859</td>\n",
       "      <td>0.259210</td>\n",
       "      <td>0.250447</td>\n",
       "    </tr>\n",
       "    <tr>\n",
       "      <td>12</td>\n",
       "      <td>1.0</td>\n",
       "      <td>0.275395</td>\n",
       "      <td>0.302094</td>\n",
       "      <td>0.287208</td>\n",
       "      <td>0.236966</td>\n",
       "      <td>0.262220</td>\n",
       "      <td>0.250575</td>\n",
       "    </tr>\n",
       "    <tr>\n",
       "      <td>13</td>\n",
       "      <td>1.0</td>\n",
       "      <td>0.279309</td>\n",
       "      <td>0.314547</td>\n",
       "      <td>0.296096</td>\n",
       "      <td>0.233437</td>\n",
       "      <td>0.266475</td>\n",
       "      <td>0.250703</td>\n",
       "    </tr>\n",
       "    <tr>\n",
       "      <td>14</td>\n",
       "      <td>1.0</td>\n",
       "      <td>0.282977</td>\n",
       "      <td>0.324292</td>\n",
       "      <td>0.362004</td>\n",
       "      <td>0.238823</td>\n",
       "      <td>0.271755</td>\n",
       "      <td>0.250831</td>\n",
       "    </tr>\n",
       "    <tr>\n",
       "      <td>15</td>\n",
       "      <td>1.0</td>\n",
       "      <td>0.285912</td>\n",
       "      <td>0.347274</td>\n",
       "      <td>0.301821</td>\n",
       "      <td>0.262501</td>\n",
       "      <td>0.276493</td>\n",
       "      <td>0.250959</td>\n",
       "    </tr>\n",
       "  </tbody>\n",
       "</table>\n",
       "</div>"
      ],
      "text/plain": [
       "    const   GNPDEFL       GNP     UNEMP     ARMED       POP      YEAR\n",
       "0     1.0  0.203000  0.146627  0.177462  0.147639  0.228725  0.249040\n",
       "1     1.0  0.216452  0.162359  0.175127  0.135197  0.230902  0.249168\n",
       "2     1.0  0.215718  0.161500  0.277341  0.150054  0.233327  0.249296\n",
       "3     1.0  0.218898  0.178113  0.252409  0.153211  0.235784  0.249424\n",
       "4     1.0  0.235284  0.205885  0.158104  0.287758  0.238220  0.249552\n",
       "5     1.0  0.239931  0.217165  0.145525  0.333721  0.240760  0.249680\n",
       "6     1.0  0.242133  0.228672  0.140855  0.329357  0.244637  0.249807\n",
       "7     1.0  0.244578  0.227249  0.269507  0.311064  0.247028  0.249935\n",
       "8     1.0  0.247513  0.248751  0.218739  0.283022  0.249513  0.250063\n",
       "9     1.0  0.255829  0.262339  0.212563  0.265287  0.252374  0.250191\n",
       "10    1.0  0.265123  0.277102  0.221150  0.259808  0.256011  0.250319\n",
       "11    1.0  0.270993  0.278214  0.352589  0.244859  0.259210  0.250447\n",
       "12    1.0  0.275395  0.302094  0.287208  0.236966  0.262220  0.250575\n",
       "13    1.0  0.279309  0.314547  0.296096  0.233437  0.266475  0.250703\n",
       "14    1.0  0.282977  0.324292  0.362004  0.238823  0.271755  0.250831\n",
       "15    1.0  0.285912  0.347274  0.301821  0.262501  0.276493  0.250959"
      ]
     },
     "execution_count": 35,
     "metadata": {},
     "output_type": "execute_result"
    }
   ],
   "source": [
    "X"
   ]
  },
  {
   "cell_type": "code",
   "execution_count": 37,
   "metadata": {},
   "outputs": [
    {
     "name": "stdout",
     "output_type": "stream",
     "text": [
      "56240.87039619086\n"
     ]
    }
   ],
   "source": [
    "# we take the square root of the ratio of the biggest to the smallest eigen values.\n",
    "eigs = np.linalg.eigvals(norm_xtx)\n",
    "condition_number = np.sqrt(eigs.max() / eigs.min())\n",
    "print(condition_number)"
   ]
  },
  {
   "cell_type": "markdown",
   "metadata": {},
   "source": [
    "#### Dropping an observation"
   ]
  },
  {
   "cell_type": "code",
   "execution_count": 39,
   "metadata": {},
   "outputs": [
    {
     "name": "stdout",
     "output_type": "stream",
     "text": [
      "Percentage change 4.55%\n",
      "Percentage change -2228.01%\n",
      "Percentage change 154304695.31%\n",
      "Percentage change 1366329.02%\n",
      "Percentage change 1112549.36%\n",
      "Percentage change 92708715.91%\n",
      "Percentage change 817944.26%\n",
      "\n"
     ]
    }
   ],
   "source": [
    "ols_results2 = sm.OLS(y.iloc[:14], X.iloc[:14]).fit()\n",
    "print(\"Percentage change %4.2f%%\\n\"*7 % tuple([i for i in (ols_results2.params - ols_results.params)/ols_results.params*100]))\n"
   ]
  },
  {
   "cell_type": "code",
   "execution_count": 40,
   "metadata": {},
   "outputs": [],
   "source": [
    "# we can also look at formal statistics for this such as DFBETAS \n",
    "# -standardized measure of how much each coefficient changes when that observation is left out\n",
    "infl = ols_results.get_influence()"
   ]
  },
  {
   "cell_type": "code",
   "execution_count": 41,
   "metadata": {},
   "outputs": [
    {
     "data": {
      "text/plain": [
       "0.5"
      ]
     },
     "execution_count": 41,
     "metadata": {},
     "output_type": "execute_result"
    }
   ],
   "source": [
    "# In general, we may consider DBETAS in absolute value greater than 2/sqrt(N) to be influential observations\n",
    "2./len(X)**.5"
   ]
  },
  {
   "cell_type": "code",
   "execution_count": 42,
   "metadata": {},
   "outputs": [
    {
     "name": "stdout",
     "output_type": "stream",
     "text": [
      "    dfb_const  dfb_GNPDEFL   dfb_GNP  dfb_UNEMP  dfb_ARMED   dfb_POP  dfb_YEAR\n",
      "0   -0.016406    -0.234566 -0.045095  -0.121513  -0.149026  0.211057  0.013388\n",
      "1   -0.020608    -0.289091  0.124453   0.156964   0.287700 -0.161890  0.025958\n",
      "2   -0.008382     0.007161 -0.016799   0.009575   0.002227  0.014871  0.008103\n",
      "3    0.018093     0.907968 -0.500022  -0.495996   0.089996  0.711142 -0.040056\n",
      "4    1.871260    -0.219351  1.611418   1.561520   1.169337 -1.081513 -1.864186\n",
      "5   -0.321373    -0.077045 -0.198129  -0.192961  -0.430626  0.079916  0.323275\n",
      "6    0.315945    -0.241983  0.438146   0.471797  -0.019546 -0.448515 -0.307517\n",
      "7    0.015816    -0.002742  0.018591   0.005064  -0.031320 -0.015823 -0.015583\n",
      "8   -0.004019    -0.045687  0.023708   0.018125   0.013683 -0.034770  0.005116\n",
      "9   -1.018242    -0.282131 -0.412621  -0.663904  -0.715020 -0.229501  1.035723\n",
      "10   0.030947    -0.024781  0.029480   0.035361   0.034508 -0.014194 -0.030805\n",
      "11   0.005987    -0.079727  0.030276  -0.008883  -0.006854 -0.010693 -0.005323\n",
      "12  -0.135883     0.092325 -0.253027  -0.211465   0.094720  0.331351  0.129120\n",
      "13   0.032736    -0.024249  0.017510   0.033242   0.090655  0.007634 -0.033114\n",
      "14   0.305868     0.148070  0.001428   0.169314   0.253431  0.342982 -0.318031\n",
      "15  -0.538323     0.432004 -0.261262  -0.143444  -0.360890 -0.467296  0.552421\n"
     ]
    }
   ],
   "source": [
    "print(infl.summary_frame().filter(regex=\"dfb\"))"
   ]
  },
  {
   "cell_type": "code",
   "execution_count": 44,
   "metadata": {},
   "outputs": [
    {
     "data": {
      "text/plain": [
       "const     -3.640776e+06\n",
       "GNPDEFL   -3.205182e+02\n",
       "GNP       -5.527071e+04\n",
       "UNEMP     -2.760501e+04\n",
       "ARMED     -1.149619e+04\n",
       "POP       -4.737801e+04\n",
       "YEAR       1.496327e+07\n",
       "dtype: float64"
      ]
     },
     "execution_count": 44,
     "metadata": {},
     "output_type": "execute_result"
    }
   ],
   "source": []
  },
  {
   "cell_type": "code",
   "execution_count": 45,
   "metadata": {},
   "outputs": [
    {
     "data": {
      "text/html": [
       "<div>\n",
       "<style scoped>\n",
       "    .dataframe tbody tr th:only-of-type {\n",
       "        vertical-align: middle;\n",
       "    }\n",
       "\n",
       "    .dataframe tbody tr th {\n",
       "        vertical-align: top;\n",
       "    }\n",
       "\n",
       "    .dataframe thead th {\n",
       "        text-align: right;\n",
       "    }\n",
       "</style>\n",
       "<table border=\"1\" class=\"dataframe\">\n",
       "  <thead>\n",
       "    <tr style=\"text-align: right;\">\n",
       "      <th></th>\n",
       "      <th>dfb_const</th>\n",
       "      <th>dfb_GNPDEFL</th>\n",
       "      <th>dfb_GNP</th>\n",
       "      <th>dfb_UNEMP</th>\n",
       "      <th>dfb_ARMED</th>\n",
       "      <th>dfb_POP</th>\n",
       "      <th>dfb_YEAR</th>\n",
       "      <th>cooks_d</th>\n",
       "      <th>standard_resid</th>\n",
       "      <th>hat_diag</th>\n",
       "      <th>dffits_internal</th>\n",
       "      <th>student_resid</th>\n",
       "      <th>dffits</th>\n",
       "    </tr>\n",
       "  </thead>\n",
       "  <tbody>\n",
       "    <tr>\n",
       "      <td>0</td>\n",
       "      <td>-0.016406</td>\n",
       "      <td>-0.234566</td>\n",
       "      <td>-0.045095</td>\n",
       "      <td>-0.121513</td>\n",
       "      <td>-0.149026</td>\n",
       "      <td>0.211057</td>\n",
       "      <td>0.013388</td>\n",
       "      <td>0.140840</td>\n",
       "      <td>1.156014</td>\n",
       "      <td>0.424537</td>\n",
       "      <td>0.992915</td>\n",
       "      <td>1.181112</td>\n",
       "      <td>1.014472</td>\n",
       "    </tr>\n",
       "    <tr>\n",
       "      <td>1</td>\n",
       "      <td>-0.020608</td>\n",
       "      <td>-0.289091</td>\n",
       "      <td>0.124453</td>\n",
       "      <td>0.156964</td>\n",
       "      <td>0.287700</td>\n",
       "      <td>-0.161890</td>\n",
       "      <td>0.025958</td>\n",
       "      <td>0.040561</td>\n",
       "      <td>-0.467568</td>\n",
       "      <td>0.564978</td>\n",
       "      <td>-0.532850</td>\n",
       "      <td>-0.446281</td>\n",
       "      <td>-0.508591</td>\n",
       "    </tr>\n",
       "    <tr>\n",
       "      <td>2</td>\n",
       "      <td>-0.008382</td>\n",
       "      <td>0.007161</td>\n",
       "      <td>-0.016799</td>\n",
       "      <td>0.009575</td>\n",
       "      <td>0.002227</td>\n",
       "      <td>0.014871</td>\n",
       "      <td>0.008103</td>\n",
       "      <td>0.002930</td>\n",
       "      <td>0.190101</td>\n",
       "      <td>0.362075</td>\n",
       "      <td>0.143218</td>\n",
       "      <td>0.179590</td>\n",
       "      <td>0.135299</td>\n",
       "    </tr>\n",
       "    <tr>\n",
       "      <td>3</td>\n",
       "      <td>0.018093</td>\n",
       "      <td>0.907968</td>\n",
       "      <td>-0.500022</td>\n",
       "      <td>-0.495996</td>\n",
       "      <td>0.089996</td>\n",
       "      <td>0.711142</td>\n",
       "      <td>-0.040056</td>\n",
       "      <td>0.244193</td>\n",
       "      <td>-1.697900</td>\n",
       "      <td>0.372228</td>\n",
       "      <td>-1.307421</td>\n",
       "      <td>-1.941705</td>\n",
       "      <td>-1.495156</td>\n",
       "    </tr>\n",
       "    <tr>\n",
       "      <td>4</td>\n",
       "      <td>1.871260</td>\n",
       "      <td>-0.219351</td>\n",
       "      <td>1.611418</td>\n",
       "      <td>1.561520</td>\n",
       "      <td>1.169337</td>\n",
       "      <td>-1.081513</td>\n",
       "      <td>-1.864186</td>\n",
       "      <td>0.613917</td>\n",
       "      <td>1.638429</td>\n",
       "      <td>0.615511</td>\n",
       "      <td>2.073021</td>\n",
       "      <td>1.844027</td>\n",
       "      <td>2.333153</td>\n",
       "    </tr>\n",
       "    <tr>\n",
       "      <td>5</td>\n",
       "      <td>-0.321373</td>\n",
       "      <td>-0.077045</td>\n",
       "      <td>-0.198129</td>\n",
       "      <td>-0.192961</td>\n",
       "      <td>-0.430626</td>\n",
       "      <td>0.079916</td>\n",
       "      <td>0.323275</td>\n",
       "      <td>0.088845</td>\n",
       "      <td>-1.029989</td>\n",
       "      <td>0.369574</td>\n",
       "      <td>-0.788617</td>\n",
       "      <td>-1.033931</td>\n",
       "      <td>-0.791634</td>\n",
       "    </tr>\n",
       "    <tr>\n",
       "      <td>6</td>\n",
       "      <td>0.315945</td>\n",
       "      <td>-0.241983</td>\n",
       "      <td>0.438146</td>\n",
       "      <td>0.471797</td>\n",
       "      <td>-0.019546</td>\n",
       "      <td>-0.448515</td>\n",
       "      <td>-0.307517</td>\n",
       "      <td>0.078648</td>\n",
       "      <td>-0.754657</td>\n",
       "      <td>0.491532</td>\n",
       "      <td>-0.741982</td>\n",
       "      <td>-0.735136</td>\n",
       "      <td>-0.722789</td>\n",
       "    </tr>\n",
       "    <tr>\n",
       "      <td>7</td>\n",
       "      <td>0.015816</td>\n",
       "      <td>-0.002742</td>\n",
       "      <td>0.018591</td>\n",
       "      <td>0.005064</td>\n",
       "      <td>-0.031320</td>\n",
       "      <td>-0.015823</td>\n",
       "      <td>-0.015583</td>\n",
       "      <td>0.000549</td>\n",
       "      <td>-0.061430</td>\n",
       "      <td>0.504656</td>\n",
       "      <td>-0.062005</td>\n",
       "      <td>-0.057929</td>\n",
       "      <td>-0.058471</td>\n",
       "    </tr>\n",
       "    <tr>\n",
       "      <td>8</td>\n",
       "      <td>-0.004019</td>\n",
       "      <td>-0.045687</td>\n",
       "      <td>0.023708</td>\n",
       "      <td>0.018125</td>\n",
       "      <td>0.013683</td>\n",
       "      <td>-0.034770</td>\n",
       "      <td>0.005116</td>\n",
       "      <td>0.000488</td>\n",
       "      <td>0.063685</td>\n",
       "      <td>0.457117</td>\n",
       "      <td>0.058438</td>\n",
       "      <td>0.060056</td>\n",
       "      <td>0.055108</td>\n",
       "    </tr>\n",
       "    <tr>\n",
       "      <td>9</td>\n",
       "      <td>-1.018242</td>\n",
       "      <td>-0.282131</td>\n",
       "      <td>-0.412621</td>\n",
       "      <td>-0.663904</td>\n",
       "      <td>-0.715020</td>\n",
       "      <td>-0.229501</td>\n",
       "      <td>1.035723</td>\n",
       "      <td>0.235214</td>\n",
       "      <td>1.825818</td>\n",
       "      <td>0.330615</td>\n",
       "      <td>1.283160</td>\n",
       "      <td>2.169448</td>\n",
       "      <td>1.524659</td>\n",
       "    </tr>\n",
       "    <tr>\n",
       "      <td>10</td>\n",
       "      <td>0.030947</td>\n",
       "      <td>-0.024781</td>\n",
       "      <td>0.029480</td>\n",
       "      <td>0.035361</td>\n",
       "      <td>0.034508</td>\n",
       "      <td>-0.014194</td>\n",
       "      <td>-0.030805</td>\n",
       "      <td>0.000403</td>\n",
       "      <td>-0.070802</td>\n",
       "      <td>0.359882</td>\n",
       "      <td>-0.053088</td>\n",
       "      <td>-0.066771</td>\n",
       "      <td>-0.050065</td>\n",
       "    </tr>\n",
       "    <tr>\n",
       "      <td>11</td>\n",
       "      <td>0.005987</td>\n",
       "      <td>-0.079727</td>\n",
       "      <td>0.030276</td>\n",
       "      <td>-0.008883</td>\n",
       "      <td>-0.006854</td>\n",
       "      <td>-0.010693</td>\n",
       "      <td>-0.005323</td>\n",
       "      <td>0.004240</td>\n",
       "      <td>-0.178194</td>\n",
       "      <td>0.483124</td>\n",
       "      <td>-0.172277</td>\n",
       "      <td>-0.168300</td>\n",
       "      <td>-0.162712</td>\n",
       "    </tr>\n",
       "    <tr>\n",
       "      <td>12</td>\n",
       "      <td>-0.135883</td>\n",
       "      <td>0.092325</td>\n",
       "      <td>-0.253027</td>\n",
       "      <td>-0.211465</td>\n",
       "      <td>0.094720</td>\n",
       "      <td>0.331351</td>\n",
       "      <td>0.129120</td>\n",
       "      <td>0.035560</td>\n",
       "      <td>-0.645057</td>\n",
       "      <td>0.374308</td>\n",
       "      <td>-0.498922</td>\n",
       "      <td>-0.622731</td>\n",
       "      <td>-0.481654</td>\n",
       "    </tr>\n",
       "    <tr>\n",
       "      <td>13</td>\n",
       "      <td>0.032736</td>\n",
       "      <td>-0.024249</td>\n",
       "      <td>0.017510</td>\n",
       "      <td>0.033242</td>\n",
       "      <td>0.090655</td>\n",
       "      <td>0.007634</td>\n",
       "      <td>-0.033114</td>\n",
       "      <td>0.004327</td>\n",
       "      <td>-0.319920</td>\n",
       "      <td>0.228378</td>\n",
       "      <td>-0.174047</td>\n",
       "      <td>-0.303353</td>\n",
       "      <td>-0.165034</td>\n",
       "    </tr>\n",
       "    <tr>\n",
       "      <td>14</td>\n",
       "      <td>0.305868</td>\n",
       "      <td>0.148070</td>\n",
       "      <td>0.001428</td>\n",
       "      <td>0.169314</td>\n",
       "      <td>0.253431</td>\n",
       "      <td>0.342982</td>\n",
       "      <td>-0.318031</td>\n",
       "      <td>0.170388</td>\n",
       "      <td>1.416343</td>\n",
       "      <td>0.372870</td>\n",
       "      <td>1.092116</td>\n",
       "      <td>1.514787</td>\n",
       "      <td>1.168024</td>\n",
       "    </tr>\n",
       "    <tr>\n",
       "      <td>15</td>\n",
       "      <td>-0.538323</td>\n",
       "      <td>0.432004</td>\n",
       "      <td>-0.261262</td>\n",
       "      <td>-0.143444</td>\n",
       "      <td>-0.360890</td>\n",
       "      <td>-0.467296</td>\n",
       "      <td>0.552421</td>\n",
       "      <td>0.466683</td>\n",
       "      <td>-1.215404</td>\n",
       "      <td>0.688615</td>\n",
       "      <td>-1.807423</td>\n",
       "      <td>-1.253361</td>\n",
       "      <td>-1.863869</td>\n",
       "    </tr>\n",
       "  </tbody>\n",
       "</table>\n",
       "</div>"
      ],
      "text/plain": [
       "    dfb_const  dfb_GNPDEFL   dfb_GNP  dfb_UNEMP  dfb_ARMED   dfb_POP  \\\n",
       "0   -0.016406    -0.234566 -0.045095  -0.121513  -0.149026  0.211057   \n",
       "1   -0.020608    -0.289091  0.124453   0.156964   0.287700 -0.161890   \n",
       "2   -0.008382     0.007161 -0.016799   0.009575   0.002227  0.014871   \n",
       "3    0.018093     0.907968 -0.500022  -0.495996   0.089996  0.711142   \n",
       "4    1.871260    -0.219351  1.611418   1.561520   1.169337 -1.081513   \n",
       "5   -0.321373    -0.077045 -0.198129  -0.192961  -0.430626  0.079916   \n",
       "6    0.315945    -0.241983  0.438146   0.471797  -0.019546 -0.448515   \n",
       "7    0.015816    -0.002742  0.018591   0.005064  -0.031320 -0.015823   \n",
       "8   -0.004019    -0.045687  0.023708   0.018125   0.013683 -0.034770   \n",
       "9   -1.018242    -0.282131 -0.412621  -0.663904  -0.715020 -0.229501   \n",
       "10   0.030947    -0.024781  0.029480   0.035361   0.034508 -0.014194   \n",
       "11   0.005987    -0.079727  0.030276  -0.008883  -0.006854 -0.010693   \n",
       "12  -0.135883     0.092325 -0.253027  -0.211465   0.094720  0.331351   \n",
       "13   0.032736    -0.024249  0.017510   0.033242   0.090655  0.007634   \n",
       "14   0.305868     0.148070  0.001428   0.169314   0.253431  0.342982   \n",
       "15  -0.538323     0.432004 -0.261262  -0.143444  -0.360890 -0.467296   \n",
       "\n",
       "    dfb_YEAR   cooks_d  standard_resid  hat_diag  dffits_internal  \\\n",
       "0   0.013388  0.140840        1.156014  0.424537         0.992915   \n",
       "1   0.025958  0.040561       -0.467568  0.564978        -0.532850   \n",
       "2   0.008103  0.002930        0.190101  0.362075         0.143218   \n",
       "3  -0.040056  0.244193       -1.697900  0.372228        -1.307421   \n",
       "4  -1.864186  0.613917        1.638429  0.615511         2.073021   \n",
       "5   0.323275  0.088845       -1.029989  0.369574        -0.788617   \n",
       "6  -0.307517  0.078648       -0.754657  0.491532        -0.741982   \n",
       "7  -0.015583  0.000549       -0.061430  0.504656        -0.062005   \n",
       "8   0.005116  0.000488        0.063685  0.457117         0.058438   \n",
       "9   1.035723  0.235214        1.825818  0.330615         1.283160   \n",
       "10 -0.030805  0.000403       -0.070802  0.359882        -0.053088   \n",
       "11 -0.005323  0.004240       -0.178194  0.483124        -0.172277   \n",
       "12  0.129120  0.035560       -0.645057  0.374308        -0.498922   \n",
       "13 -0.033114  0.004327       -0.319920  0.228378        -0.174047   \n",
       "14 -0.318031  0.170388        1.416343  0.372870         1.092116   \n",
       "15  0.552421  0.466683       -1.215404  0.688615        -1.807423   \n",
       "\n",
       "    student_resid    dffits  \n",
       "0        1.181112  1.014472  \n",
       "1       -0.446281 -0.508591  \n",
       "2        0.179590  0.135299  \n",
       "3       -1.941705 -1.495156  \n",
       "4        1.844027  2.333153  \n",
       "5       -1.033931 -0.791634  \n",
       "6       -0.735136 -0.722789  \n",
       "7       -0.057929 -0.058471  \n",
       "8        0.060056  0.055108  \n",
       "9        2.169448  1.524659  \n",
       "10      -0.066771 -0.050065  \n",
       "11      -0.168300 -0.162712  \n",
       "12      -0.622731 -0.481654  \n",
       "13      -0.303353 -0.165034  \n",
       "14       1.514787  1.168024  \n",
       "15      -1.253361 -1.863869  "
      ]
     },
     "execution_count": 45,
     "metadata": {},
     "output_type": "execute_result"
    }
   ],
   "source": [
    "infl.summary_frame()"
   ]
  },
  {
   "cell_type": "code",
   "execution_count": null,
   "metadata": {},
   "outputs": [],
   "source": []
  }
 ],
 "metadata": {
  "kernelspec": {
   "display_name": "Python 3",
   "language": "python",
   "name": "python3"
  },
  "language_info": {
   "codemirror_mode": {
    "name": "ipython",
    "version": 3
   },
   "file_extension": ".py",
   "mimetype": "text/x-python",
   "name": "python",
   "nbconvert_exporter": "python",
   "pygments_lexer": "ipython3",
   "version": "3.7.4"
  }
 },
 "nbformat": 4,
 "nbformat_minor": 2
}
