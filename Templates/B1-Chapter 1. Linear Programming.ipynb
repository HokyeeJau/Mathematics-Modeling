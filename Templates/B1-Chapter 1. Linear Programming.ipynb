{
 "cells": [
  {
   "cell_type": "markdown",
   "metadata": {},
   "source": [
    "# Template"
   ]
  },
  {
   "cell_type": "code",
   "execution_count": 1,
   "metadata": {},
   "outputs": [],
   "source": [
    "def LinearProg(c, a, b, bounds):\n",
    "    resList = []\n",
    "    for method in methods:\n",
    "        methods = ['interior-point', 'revised simplex', 'simplex']\n",
    "        res = linprog(c, A_ub=a, b_ub=a, bounds=bounds, method='simplex')\n",
    "        resList.append(res)\n",
    "    return resList\n",
    "\n",
    "def AbsProcessing(c, a):\n",
    "    abs_c = np.hstack((c,c))\n",
    "    abs_a = np.hstack((a, -a))\n",
    "    bounds = []\n",
    "    for _ in range(0, len(c)*2):\n",
    "        bounds.append((0, None))\n",
    "    return abs_c, abs_a, bounds"
   ]
  },
  {
   "cell_type": "markdown",
   "metadata": {},
   "source": [
    "## 例1.1\n",
    "min z = -4000 * x1 - 3000 * x2  \n",
    "s.t:\n",
    "- 2 * x1 + x2 <= 10\n",
    "- x1 + x2  <= 8\n",
    "- x2 <= 7\n",
    "- x1, x2 >= 0"
   ]
  },
  {
   "cell_type": "code",
   "execution_count": 2,
   "metadata": {},
   "outputs": [],
   "source": [
    "import numpy as np\n",
    "# max z = min -z\n",
    "c = np.array([-4000,-3000])\n",
    "a = np.array([[2,1], [1,1], [0,1]])\n",
    "b = np.array([10, 8, 7])\n",
    "\n",
    "x1_bounds = (0, None)\n",
    "x2_bounds = (0, None)\n",
    "\n",
    "from scipy.optimize import linprog\n",
    "res = linprog(c, A_ub = a, b_ub = b, bounds=[x1_bounds, x2_bounds])"
   ]
  },
  {
   "cell_type": "code",
   "execution_count": 3,
   "metadata": {},
   "outputs": [
    {
     "name": "stdout",
     "output_type": "stream",
     "text": [
      "     con: array([], dtype=float64)\n",
      "     fun: -25999.999999968906\n",
      " message: 'Optimization terminated successfully.'\n",
      "     nit: 6\n",
      "   slack: array([1.13242749e-11, 9.88453763e-12, 1.00000000e+00])\n",
      "  status: 0\n",
      " success: True\n",
      "       x: array([2., 6.])\n"
     ]
    }
   ],
   "source": [
    "print(res)"
   ]
  },
  {
   "cell_type": "markdown",
   "metadata": {},
   "source": [
    "## 例1.3\n",
    "min z = 2 * x1 + 3 * x2 + x3  \n",
    "s.t.\n",
    "- x1 + 4 * x2 + 2 * x3 >= 8\n",
    "- 3 * x1 + 2 * x2 >= 6\n",
    "- x1, x2, x3 >= 0"
   ]
  },
  {
   "cell_type": "code",
   "execution_count": 4,
   "metadata": {},
   "outputs": [],
   "source": [
    "c = np.array([2,3,1])\n",
    "A_ub = np.array([[1, 4, 2], [3, 2, 0]])\n",
    "b_ub = np.array([8, 6])\n",
    "\n",
    "x1_bounds = (0, None)\n",
    "x2_bounds = (0, None)\n",
    "x3_bounds = (0, None)\n",
    "\n",
    "res = linprog(c, A_ub=-A_ub, b_ub=-b_ub, bounds=[x1_bounds, x2_bounds, x3_bounds], method='simplex')"
   ]
  },
  {
   "cell_type": "code",
   "execution_count": 5,
   "metadata": {},
   "outputs": [
    {
     "name": "stdout",
     "output_type": "stream",
     "text": [
      "     con: array([], dtype=float64)\n",
      "     fun: 7.0\n",
      " message: 'Optimization terminated successfully.'\n",
      "     nit: 2\n",
      "   slack: array([0., 0.])\n",
      "  status: 0\n",
      " success: True\n",
      "       x: array([0.8, 1.8, 0. ])\n"
     ]
    }
   ],
   "source": [
    "print(res)"
   ]
  },
  {
   "cell_type": "code",
   "execution_count": 6,
   "metadata": {},
   "outputs": [
    {
     "name": "stdout",
     "output_type": "stream",
     "text": [
      "interior-point\n",
      "------------\n",
      "     con: array([], dtype=float64)\n",
      "     fun: 6.999999994872994\n",
      " message: 'Optimization terminated successfully.'\n",
      "     nit: 3\n",
      "   slack: array([ 3.85261423e-09, -1.41066279e-08])\n",
      "  status: 0\n",
      " success: True\n",
      "       x: array([1.17949641, 1.23075538, 0.94874104])\n",
      "revised simplex\n",
      "------------\n",
      "     con: array([], dtype=float64)\n",
      "     fun: 7.0\n",
      " message: 'Optimization terminated successfully.'\n",
      "     nit: 1\n",
      "   slack: array([0., 0.])\n",
      "  status: 0\n",
      " success: True\n",
      "       x: array([2., 0., 3.])\n",
      "simplex\n",
      "------------\n",
      "     con: array([], dtype=float64)\n",
      "     fun: 7.0\n",
      " message: 'Optimization terminated successfully.'\n",
      "     nit: 2\n",
      "   slack: array([0., 0.])\n",
      "  status: 0\n",
      " success: True\n",
      "       x: array([0.8, 1.8, 0. ])\n"
     ]
    }
   ],
   "source": [
    "methods = ['interior-point', 'revised simplex', 'simplex']\n",
    "\n",
    "for method in methods:\n",
    "    print(method)\n",
    "    print(\"------------\")\n",
    "    res = linprog(c, A_ub=-A_ub, b_ub=-b_ub, bounds=[x1_bounds, x2_bounds, x3_bounds], method=method)\n",
    "    print(res)"
   ]
  },
  {
   "cell_type": "markdown",
   "metadata": {},
   "source": [
    "## 例1.5 \n",
    "min z = |x1| +  2 * |x2| + 3 * |x3| + 4 * |x4|  \n",
    "s.t.:  \n",
    "- x1 - x2 - x3 - x4 <= -2 -> u1 - u2 - u3 - u4 - v1 + v2 + v3 + v4 <= -2\n",
    "- x1 - x2 + x3 - 3 * x4 <= -1 -> u1 - u2 + u3 - 3 * u4 - v1 + v2 - v3 + 3 * v4 <= -1\n",
    "- x1 - x2 - 2 * x3 + 3 * x4 <= -1/2 -> u1 - u2 - 2 * u3 + 3 * u4 - v1 + v2 + 2 * v3 - 3 * v4 <= -0.5\n",
    "- u1, u2, u3, u4, v1, v2, v3, v4 >= 0"
   ]
  },
  {
   "cell_type": "code",
   "execution_count": 7,
   "metadata": {},
   "outputs": [
    {
     "name": "stdout",
     "output_type": "stream",
     "text": [
      "interior-point\n",
      "------------\n",
      "     con: array([], dtype=float64)\n",
      "     fun: -7580906376.07427\n",
      " message: 'The algorithm terminated successfully and determined that the problem is unbounded.'\n",
      "     nit: 3\n",
      "   slack: array([7.40469374e+09, 7.03685286e+09, 7.58861418e+09])\n",
      "  status: 3\n",
      " success: False\n",
      "       x: array([6.17379604e+09, 9.63497286e+09, 7.26150893e+09, 7.56933039e+09,\n",
      "       1.14533817e+10, 6.85185305e+09, 8.76145283e+09, 8.41126255e+09])\n",
      "revised simplex\n",
      "------------\n",
      "     con: array([], dtype=float64)\n",
      "     fun: 2.5\n",
      " message: 'The problem is unbounded, as the simplex algorithm found a basic feasible solution from which there is a direction with negative reduced cost in which all decision variables increase.'\n",
      "     nit: 4\n",
      "   slack: array([0., 0., 2.])\n",
      "  status: 3\n",
      " success: False\n",
      "       x: array([0.  , 1.75, 0.  , 0.  , 0.  , 0.  , 0.  , 0.25])\n",
      "simplex\n",
      "------------\n",
      "     con: array([], dtype=float64)\n",
      "     fun: 2.5\n",
      " message: 'Optimization failed. The problem appears to be unbounded.'\n",
      "     nit: 4\n",
      "   slack: array([0., 0., 2.])\n",
      "  status: 3\n",
      " success: False\n",
      "       x: array([0.  , 1.75, 0.  , 0.  , 0.  , 0.  , 0.  , 0.25])\n"
     ]
    }
   ],
   "source": [
    "z = np.array([[1, 2, 3, 4, -1, -2, -3, -4]])\n",
    "a = np.array([[1, -1, -1, 1, -1, 1, 1, -1],\n",
    "     [1, -1, 1, -3, -1, 1, -1, 3],\n",
    "     [1, -1, -2, 3, -1, 1, 2, -3]])\n",
    "b = np.array([-2, -1, -0.5])\n",
    "u1 = u2 = u3 = u4 = v1 = v2 = v3 = v4 = (0, None)\n",
    "methods = ['interior-point', 'revised simplex', 'simplex']\n",
    "\n",
    "for method in methods:\n",
    "    print(method)\n",
    "    print(\"------------\")\n",
    "    res = linprog(z, A_ub=a, b_ub=b, bounds=[u1, u2, u3, u4, v1, v2, v3, v4], method=method)\n",
    "    print(res)"
   ]
  },
  {
   "cell_type": "code",
   "execution_count": null,
   "metadata": {},
   "outputs": [],
   "source": []
  }
 ],
 "metadata": {
  "kernelspec": {
   "display_name": "Python 3",
   "language": "python",
   "name": "python3"
  },
  "language_info": {
   "codemirror_mode": {
    "name": "ipython",
    "version": 3
   },
   "file_extension": ".py",
   "mimetype": "text/x-python",
   "name": "python",
   "nbconvert_exporter": "python",
   "pygments_lexer": "ipython3",
   "version": "3.7.4"
  }
 },
 "nbformat": 4,
 "nbformat_minor": 2
}
