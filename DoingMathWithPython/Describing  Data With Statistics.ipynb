{
 "cells": [
  {
   "cell_type": "markdown",
   "metadata": {},
   "source": [
    "# Chapter 3 Describing Data with Statistics"
   ]
  },
  {
   "cell_type": "markdown",
   "metadata": {},
   "source": [
    "## Finding the Mean"
   ]
  },
  {
   "cell_type": "code",
   "execution_count": 1,
   "metadata": {},
   "outputs": [
    {
     "data": {
      "text/plain": [
       "6"
      ]
     },
     "execution_count": 1,
     "metadata": {},
     "output_type": "execute_result"
    }
   ],
   "source": [
    "lst = list(range(1,4))\n",
    "sum(lst)"
   ]
  },
  {
   "cell_type": "code",
   "execution_count": 2,
   "metadata": {},
   "outputs": [
    {
     "data": {
      "text/plain": [
       "3"
      ]
     },
     "execution_count": 2,
     "metadata": {},
     "output_type": "execute_result"
    }
   ],
   "source": [
    "len(lst)"
   ]
  },
  {
   "cell_type": "code",
   "execution_count": 3,
   "metadata": {},
   "outputs": [],
   "source": [
    "\"\"\"\n",
    "Calculating the mean\n",
    "\"\"\"\n",
    "def calculate_mean(numbers):\n",
    "    s = sum(numbers)\n",
    "    N = len(numbers)\n",
    "    # Calculate the mean\n",
    "    mean = s/N\n",
    "    return mean"
   ]
  },
  {
   "cell_type": "code",
   "execution_count": 4,
   "metadata": {},
   "outputs": [
    {
     "name": "stdout",
     "output_type": "stream",
     "text": [
      "Mean donations over the last 12 days is 477.75\n"
     ]
    }
   ],
   "source": [
    "donations = [100, 60, 70, 900, 100, 200, 500, 500, 503, 600, 1000, 1200]\n",
    "mean = calculate_mean(donations)\n",
    "N = len(donations)\n",
    "print(\"Mean donations over the last {0} days is {1}\".format(N, mean))"
   ]
  },
  {
   "cell_type": "markdown",
   "metadata": {},
   "source": [
    "## Finding the Median"
   ]
  },
  {
   "cell_type": "code",
   "execution_count": 6,
   "metadata": {},
   "outputs": [
    {
     "data": {
      "text/plain": [
       "[1, 3, 4]"
      ]
     },
     "execution_count": 6,
     "metadata": {},
     "output_type": "execute_result"
    }
   ],
   "source": [
    "lst = [4,1,3]\n",
    "lst.sort()\n",
    "lst"
   ]
  },
  {
   "cell_type": "code",
   "execution_count": 8,
   "metadata": {},
   "outputs": [
    {
     "name": "stdout",
     "output_type": "stream",
     "text": [
      "Median donation over the last 12 is 500.0\n"
     ]
    }
   ],
   "source": [
    "\"\"\"\n",
    "Calculating the median\n",
    "\"\"\"\n",
    "\n",
    "def calculate_median(numbers):\n",
    "    N = len(numbers)\n",
    "    numbers.sort()\n",
    "    \n",
    "    # Find the Median\n",
    "    if N % 2 == 0:\n",
    "        # if N is even\n",
    "        m1 = N/2\n",
    "        m2 = m1 + 1\n",
    "        # Convert to integer, match position\n",
    "        m1 = int(m1) - 1\n",
    "        m2 = int(m2) - 2\n",
    "        median = (numbers[m1]+numbers[m2])/2\n",
    "    else:\n",
    "        m = (N+1)/2\n",
    "        # Convert to integer, match position\n",
    "        m = int(m) - 1\n",
    "        median = numbers[m]\n",
    "    return median\n",
    "\n",
    "median = calculate_median(donations)\n",
    "N = len(donations)\n",
    "print(\"Median donation over the last {0} is {1}\".format(N, median))"
   ]
  },
  {
   "cell_type": "markdown",
   "metadata": {},
   "source": [
    "## Finding the Mode and Creating a Frequency Table"
   ]
  },
  {
   "cell_type": "markdown",
   "metadata": {},
   "source": [
    "### Finding the Most Common Elements"
   ]
  },
  {
   "cell_type": "code",
   "execution_count": 9,
   "metadata": {},
   "outputs": [
    {
     "data": {
      "text/plain": [
       "[(4, 2), (2, 1), (1, 1), (3, 1)]"
      ]
     },
     "execution_count": 9,
     "metadata": {},
     "output_type": "execute_result"
    }
   ],
   "source": [
    "lst = [4,2,1,3,4]\n",
    "from collections import Counter\n",
    "c = Counter(lst)\n",
    "c.most_common()"
   ]
  },
  {
   "cell_type": "code",
   "execution_count": 10,
   "metadata": {},
   "outputs": [
    {
     "data": {
      "text/plain": [
       "[(4, 2)]"
      ]
     },
     "execution_count": 10,
     "metadata": {},
     "output_type": "execute_result"
    }
   ],
   "source": [
    "c.most_common(1)"
   ]
  },
  {
   "cell_type": "code",
   "execution_count": 11,
   "metadata": {},
   "outputs": [
    {
     "data": {
      "text/plain": [
       "[(4, 2), (2, 1)]"
      ]
     },
     "execution_count": 11,
     "metadata": {},
     "output_type": "execute_result"
    }
   ],
   "source": [
    "c.most_common(2)"
   ]
  },
  {
   "cell_type": "code",
   "execution_count": 12,
   "metadata": {},
   "outputs": [
    {
     "data": {
      "text/plain": [
       "4"
      ]
     },
     "execution_count": 12,
     "metadata": {},
     "output_type": "execute_result"
    }
   ],
   "source": [
    "mode = c.most_common(1)\n",
    "mode[0][0]"
   ]
  },
  {
   "cell_type": "markdown",
   "metadata": {},
   "source": [
    "### Finding the Mode"
   ]
  },
  {
   "cell_type": "code",
   "execution_count": 14,
   "metadata": {},
   "outputs": [
    {
     "name": "stdout",
     "output_type": "stream",
     "text": [
      "The mode of the list of numbers is 9\n"
     ]
    }
   ],
   "source": [
    "\"\"\"\n",
    "Calculating the mode\n",
    "\"\"\"\n",
    "def calculate_mode(numbers):\n",
    "    c = Counter(numbers)\n",
    "    mode = c.most_common(1)\n",
    "    return mode[0][0]\n",
    "\n",
    "scores = [7, 8, 9, 2, 10, 9, 9, 9, 9, 4, 5, 6, 1, 5, 6, 7, 8, 6, 1, 10]\n",
    "mode = calculate_mode(scores)\n",
    "print(\"The mode of the list of numbers is {0}\".format(mode))"
   ]
  },
  {
   "cell_type": "code",
   "execution_count": 16,
   "metadata": {},
   "outputs": [
    {
     "name": "stdout",
     "output_type": "stream",
     "text": [
      "The mode(s) of the list of numbers are:\n",
      "5\n",
      "4\n"
     ]
    }
   ],
   "source": [
    "\"\"\"\n",
    "Calculating the mode when the list of numbers may have multiple modes\n",
    "\"\"\"\n",
    "def calculate_mode(numbers):\n",
    "    c = Counter(numbers)\n",
    "    numbers_freq = c.most_common()\n",
    "    max_count = numbers_freq[0][1]\n",
    "    \n",
    "    modes = []\n",
    "    for num in numbers_freq:\n",
    "        if num[1] == max_count:\n",
    "            modes.append(num[0])\n",
    "    return modes\n",
    "\n",
    "scores = [5,5,5,4,4,4,9,1,3]\n",
    "modes = calculate_mode(scores)\n",
    "print(\"The mode(s) of the list of numbers are:\")\n",
    "for mode in modes:\n",
    "    print(mode)"
   ]
  },
  {
   "cell_type": "markdown",
   "metadata": {},
   "source": [
    "### Creating a Frequency Table"
   ]
  },
  {
   "cell_type": "code",
   "execution_count": 20,
   "metadata": {},
   "outputs": [
    {
     "name": "stdout",
     "output_type": "stream",
     "text": [
      "Number\tFrequency\n",
      "9\t5\n",
      "6\t3\n",
      "7\t2\n",
      "8\t2\n",
      "10\t2\n",
      "5\t2\n",
      "1\t2\n",
      "2\t1\n",
      "4\t1\n"
     ]
    }
   ],
   "source": [
    "\"\"\"\n",
    "Frequency table for a list of numbers\n",
    "\"\"\"\n",
    "def frequency_table(numbers):\n",
    "    table = Counter(numbers)\n",
    "    print(\"Number\\tFrequency\")\n",
    "    for number in table.most_common():\n",
    "        print(\"{0}\\t{1}\".format(number[0], number[1]))\n",
    "scores = [7, 8, 9, 2, 10, 9, 9, 9, 9, 4, 5, 6, 1, 5, 6, 7, 8, 6, 1, 10]\n",
    "frequency_table(scores)"
   ]
  },
  {
   "cell_type": "code",
   "execution_count": 21,
   "metadata": {},
   "outputs": [
    {
     "name": "stdout",
     "output_type": "stream",
     "text": [
      "Number\tFrequency\n",
      "1\t2\n",
      "2\t1\n",
      "4\t1\n",
      "5\t2\n",
      "6\t3\n",
      "7\t2\n",
      "8\t2\n",
      "9\t5\n",
      "10\t2\n"
     ]
    }
   ],
   "source": [
    "def frequency_table(numbers):\n",
    "    table = Counter(numbers)\n",
    "    numbers_freq = table.most_common()\n",
    "    numbers_freq.sort()\n",
    "    print(\"Number\\tFrequency\")\n",
    "    for number in numbers_freq:\n",
    "        print(\"{0}\\t{1}\".format(number[0], number[1]))\n",
    "frequency_table(scores)"
   ]
  },
  {
   "cell_type": "markdown",
   "metadata": {},
   "source": [
    "## Measuring the Dispersion\n",
    "\n",
    "### Finding the Range of a Set of Numbers"
   ]
  },
  {
   "cell_type": "code",
   "execution_count": 22,
   "metadata": {},
   "outputs": [
    {
     "name": "stdout",
     "output_type": "stream",
     "text": [
      "Lowest: 60 Highest: 1200 Range: 1140\n"
     ]
    }
   ],
   "source": [
    "\"\"\"\n",
    "Find the range\n",
    "\"\"\"\n",
    "\n",
    "def find_range(numbers):\n",
    "    lowest = min(numbers)\n",
    "    highest = max(numbers)\n",
    "    # Find the range\n",
    "    r = highest - lowest\n",
    "    return lowest, highest, r\n",
    "\n",
    "donations = [100, 60, 70, 900, 100, 200, 500, 500, 503, 600, 1000, 1200]\n",
    "lowest, highest, r = find_range(donations)\n",
    "print(\"Lowest: {0} Highest: {1} Range: {2}\".format(lowest, highest, r))"
   ]
  },
  {
   "cell_type": "markdown",
   "metadata": {},
   "source": [
    "### Finding the Variance and Standard Deviation"
   ]
  },
  {
   "cell_type": "code",
   "execution_count": 26,
   "metadata": {},
   "outputs": [
    {
     "name": "stdout",
     "output_type": "stream",
     "text": [
      "The variance of the list of numbers is 141047.35416666666\n",
      "The standard deviation of the list of numbers is 375.5627166887931\n"
     ]
    }
   ],
   "source": [
    "\"\"\"\n",
    "Find the variance and standard deviation of list of numbers\n",
    "\"\"\"\n",
    "def calculate_mean(numbers):\n",
    "    s = sum(numbers)\n",
    "    N = len(numbers)\n",
    "    # Calculate the mean\n",
    "    mean = s/N\n",
    "    return mean\n",
    "def find_difference(numbers):\n",
    "    # Find the mean\n",
    "    mean = calculate_mean(numbers)\n",
    "    # Find the differences from the mean\n",
    "    diff = []\n",
    "    for num in numbers:\n",
    "        diff.append(num-mean)\n",
    "    return diff\n",
    "def calculate_variance(numbers):\n",
    "    # Find the list of differences\n",
    "    diff = find_difference(numbers)\n",
    "    # Find the squared differences\n",
    "    squared_diff = []\n",
    "    for d in diff:\n",
    "        squared_diff.append(d**2)\n",
    "    # Find the variance\n",
    "    sum_squared_diff = sum(squared_diff)\n",
    "    variance = sum_squared_diff/len(numbers)\n",
    "    return variance\n",
    "donations = [100, 60, 70, 900, 100, 200, 500, 500, 503, 600, 1000, 1200]\n",
    "variance = calculate_variance(donations)\n",
    "print(\"The variance of the list of numbers is {0}\".format(variance))\n",
    "std = variance**0.5\n",
    "print(\"The standard deviation of the list of numbers is {0}\".format(std))"
   ]
  },
  {
   "cell_type": "markdown",
   "metadata": {},
   "source": [
    "## Calculating the Correlation Between Two Data Sets"
   ]
  },
  {
   "cell_type": "code",
   "execution_count": 28,
   "metadata": {},
   "outputs": [],
   "source": [
    "def find_corr_x_y(x, y):\n",
    "    n = len(x)\n",
    "    \n",
    "    # Find the sum of the products\n",
    "    prod = []\n",
    "    for xi, yi in zip(x, y):\n",
    "        prod.append(xi*yi)\n",
    "    sum_prod_x_y = sum(prod)\n",
    "    sum_x = sum(x)\n",
    "    sum_y = sum(y)\n",
    "    squared_sum_y = sum_y**2\n",
    "    squared_sum_x = sum_x**2\n",
    "    \n",
    "    x_square = []\n",
    "    for xi in x:\n",
    "        x_square.append(xi**2)\n",
    "    # Find the sum\n",
    "    x_square_sum = sum(x_square)\n",
    "    \n",
    "    y_square = []\n",
    "    for yi in y:\n",
    "        y_square.append(yi**2)\n",
    "    # Find the sum\n",
    "    y_square_sum = sum(y_square)\n",
    "    \n",
    "    # Use formula the calculate correlation\n",
    "    numerator = n*sum_prod_x_y - sum_x*sum_y\n",
    "    denominator_term1 = n*x_square_sum - squared_sum_x\n",
    "    denomiantor_term2 = n*y_square_sum - squared_sum_y\n",
    "    denominator = (denominator_term1*denominator_term2)**0.5\n",
    "    correlation = numerator/denominator\n",
    "    return correlation"
   ]
  },
  {
   "cell_type": "markdown",
   "metadata": {},
   "source": [
    "### High School Grades and performance on College Admission Tests"
   ]
  },
  {
   "cell_type": "code",
   "execution_count": 29,
   "metadata": {},
   "outputs": [],
   "source": [
    "# example"
   ]
  },
  {
   "cell_type": "markdown",
   "metadata": {},
   "source": [
    "## Scatter Plots"
   ]
  },
  {
   "cell_type": "code",
   "execution_count": 31,
   "metadata": {},
   "outputs": [
    {
     "data": {
      "image/png": "[encoded data removed]",
      "text/plain": [
       "<Figure size 432x288 with 1 Axes>"
      ]
     },
     "metadata": {
      "needs_background": "light"
     },
     "output_type": "display_data"
    }
   ],
   "source": [
    "x = [1,2,3,4]\n",
    "y = [2,4,6,8]\n",
    "import matplotlib.pyplot as plt\n",
    "plt.scatter(x, y)\n",
    "plt.show()"
   ]
  },
  {
   "cell_type": "markdown",
   "metadata": {},
   "source": [
    "### Reading Data from a Text File"
   ]
  },
  {
   "cell_type": "code",
   "execution_count": 32,
   "metadata": {},
   "outputs": [
    {
     "name": "stdout",
     "output_type": "stream",
     "text": [
      "Sum of the Numbers:5733.0\n"
     ]
    }
   ],
   "source": [
    "# Find the sum of numbers stored in a file\n",
    "def sum_data(filename):\n",
    "    s = 0\n",
    "    with open(filename) as f:\n",
    "        for line in f:\n",
    "            s = s + float(line)\n",
    "        print('Sum of the Numbers:{0}'.format(s))\n",
    "sum_data('mydata.txt')"
   ]
  },
  {
   "cell_type": "code",
   "execution_count": 34,
   "metadata": {},
   "outputs": [
    {
     "name": "stdout",
     "output_type": "stream",
     "text": [
      "Mean: 477.75\n"
     ]
    }
   ],
   "source": [
    "\"\"\"\n",
    "Calculating the mean of numbers stored in a file\n",
    "\"\"\"\n",
    "\n",
    "def read_data(filename):\n",
    "    numbers = []\n",
    "    with open(filename) as f:\n",
    "        for line in f:\n",
    "            numbers.append(float(line))\n",
    "    return numbers\n",
    "\n",
    "def calculate_mean(numbers):\n",
    "    s = sum(numbers)\n",
    "    N = len(numbers)\n",
    "    mean = s/N\n",
    "    return mean\n",
    "\n",
    "data = read_data('mydata.txt')\n",
    "mean = calculate_mean(data)\n",
    "print('Mean: {0}'.format(mean))"
   ]
  },
  {
   "cell_type": "markdown",
   "metadata": {},
   "source": [
    "### Reading Data from a CSV File"
   ]
  },
  {
   "cell_type": "code",
   "execution_count": 35,
   "metadata": {},
   "outputs": [
    {
     "data": {
      "image/png": "[encoded data removed]",
      "text/plain": [
       "<Figure size 432x288 with 1 Axes>"
      ]
     },
     "metadata": {
      "needs_background": "light"
     },
     "output_type": "display_data"
    }
   ],
   "source": [
    "import csv\n",
    "import matplotlib.pyplot as plt\n",
    "\n",
    "def scatter_plot(x, y):\n",
    "    plt.scatter(x,y)\n",
    "    plt.xlabel(\"Number\")\n",
    "    plt.ylabel(\"Square\")\n",
    "    plt.show()\n",
    "    \n",
    "def read_csv(filename):\n",
    "    numbers = []\n",
    "    squared = []\n",
    "    with open(filename) as f:\n",
    "        reader = csv.reader(f)\n",
    "        next(reader)\n",
    "        for row in reader:\n",
    "            numbers.append(int(row[0]))\n",
    "            squared.append(int(row[1]))\n",
    "        return numbers, squared\n",
    "numbers, squared = read_csv('numbers.csv')\n",
    "scatter_plot(numbers, squared)"
   ]
  },
  {
   "cell_type": "code",
   "execution_count": null,
   "metadata": {},
   "outputs": [],
   "source": []
  }
 ],
 "metadata": {
  "kernelspec": {
   "display_name": "Python 3",
   "language": "python",
   "name": "python3"
  },
  "language_info": {
   "codemirror_mode": {
    "name": "ipython",
    "version": 3
   },
   "file_extension": ".py",
   "mimetype": "text/x-python",
   "name": "python",
   "nbconvert_exporter": "python",
   "pygments_lexer": "ipython3",
   "version": "3.7.4"
  }
 },
 "nbformat": 4,
 "nbformat_minor": 2
}
