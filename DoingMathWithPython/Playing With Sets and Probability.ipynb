{
 "cells": [
  {
   "cell_type": "markdown",
   "metadata": {},
   "source": [
    "# Chapter 5 Playing With Seta and Probability"
   ]
  },
  {
   "cell_type": "markdown",
   "metadata": {},
   "source": [
    "## What's a set?\n",
    "\n",
    "### Set Construction"
   ]
  },
  {
   "cell_type": "code",
   "execution_count": 1,
   "metadata": {},
   "outputs": [],
   "source": [
    "from sympy import FiniteSet\n",
    "s = FiniteSet(2, 4, 6)"
   ]
  },
  {
   "cell_type": "code",
   "execution_count": 2,
   "metadata": {},
   "outputs": [
    {
     "data": {
      "text/latex": [
       "$\\displaystyle \\left\\{2, 4, 6\\right\\}$"
      ],
      "text/plain": [
       "{2, 4, 6}"
      ]
     },
     "execution_count": 2,
     "metadata": {},
     "output_type": "execute_result"
    }
   ],
   "source": [
    "s"
   ]
  },
  {
   "cell_type": "code",
   "execution_count": 5,
   "metadata": {},
   "outputs": [
    {
     "data": {
      "text/latex": [
       "$\\displaystyle \\left\\{\\frac{1}{5}, 1, 1.5\\right\\}$"
      ],
      "text/plain": [
       "{1/5, 1, 1.5}"
      ]
     },
     "execution_count": 5,
     "metadata": {},
     "output_type": "execute_result"
    }
   ],
   "source": [
    "# We can store different types of numbers—including integers, \n",
    "# floating point numbers, and fractions—in the same set\n",
    "from fractions import Fraction\n",
    "s = FiniteSet(1, 1.5, Fraction(1, 5))\n",
    "s"
   ]
  },
  {
   "cell_type": "code",
   "execution_count": 6,
   "metadata": {},
   "outputs": [
    {
     "data": {
      "text/plain": [
       "3"
      ]
     },
     "execution_count": 6,
     "metadata": {},
     "output_type": "execute_result"
    }
   ],
   "source": [
    "# The cardinality of a set is the number of members in the set, \n",
    "# which you can find by using the len() function\n",
    "s = FiniteSet(1, 1.5, 3)\n",
    "len(s)"
   ]
  },
  {
   "cell_type": "markdown",
   "metadata": {},
   "source": [
    "# Checking whether a number is in a set"
   ]
  },
  {
   "cell_type": "code",
   "execution_count": 9,
   "metadata": {},
   "outputs": [
    {
     "data": {
      "text/plain": [
       "False"
      ]
     },
     "execution_count": 9,
     "metadata": {},
     "output_type": "execute_result"
    }
   ],
   "source": [
    "4 in s"
   ]
  },
  {
   "cell_type": "markdown",
   "metadata": {},
   "source": [
    "### Creating an empty set"
   ]
  },
  {
   "cell_type": "code",
   "execution_count": 10,
   "metadata": {},
   "outputs": [
    {
     "data": {
      "text/latex": [
       "$\\displaystyle \\emptyset$"
      ],
      "text/plain": [
       "EmptySet()"
      ]
     },
     "execution_count": 10,
     "metadata": {},
     "output_type": "execute_result"
    }
   ],
   "source": [
    "s = FiniteSet()\n",
    "s"
   ]
  },
  {
   "cell_type": "markdown",
   "metadata": {},
   "source": [
    "### Creating sets from Lists or Tuples"
   ]
  },
  {
   "cell_type": "code",
   "execution_count": 11,
   "metadata": {},
   "outputs": [
    {
     "data": {
      "text/latex": [
       "$\\displaystyle \\left\\{1, 2, 3\\right\\}$"
      ],
      "text/plain": [
       "{1, 2, 3}"
      ]
     },
     "execution_count": 11,
     "metadata": {},
     "output_type": "execute_result"
    }
   ],
   "source": [
    "members = [1,2,3]\n",
    "s = FiniteSet(*members)\n",
    "s"
   ]
  },
  {
   "cell_type": "markdown",
   "metadata": {},
   "source": [
    "### Set Repetition and Order"
   ]
  },
  {
   "cell_type": "code",
   "execution_count": 13,
   "metadata": {},
   "outputs": [
    {
     "data": {
      "text/latex": [
       "$\\displaystyle \\left\\{1, 2, 3\\right\\}$"
      ],
      "text/plain": [
       "{1, 2, 3}"
      ]
     },
     "execution_count": 13,
     "metadata": {},
     "output_type": "execute_result"
    }
   ],
   "source": [
    "from sympy import FiniteSet\n",
    "members = [1,2,3,2]\n",
    "FiniteSet(*members)"
   ]
  },
  {
   "cell_type": "code",
   "execution_count": 14,
   "metadata": {},
   "outputs": [
    {
     "name": "stdout",
     "output_type": "stream",
     "text": [
      "1\n",
      "2\n",
      "3\n"
     ]
    }
   ],
   "source": [
    "from sympy import FiniteSet\n",
    "s = FiniteSet(1,2,3)\n",
    "for member in s:\n",
    "    print(member)"
   ]
  },
  {
   "cell_type": "code",
   "execution_count": 16,
   "metadata": {},
   "outputs": [
    {
     "data": {
      "text/plain": [
       "True"
      ]
     },
     "execution_count": 16,
     "metadata": {},
     "output_type": "execute_result"
    }
   ],
   "source": [
    "s = FiniteSet(3,4,5)\n",
    "t = FiniteSet(3,4,5)\n",
    "s == t"
   ]
  },
  {
   "cell_type": "markdown",
   "metadata": {},
   "source": [
    "### Subsets, Supersets, and Power Sets"
   ]
  },
  {
   "cell_type": "code",
   "execution_count": 17,
   "metadata": {},
   "outputs": [
    {
     "data": {
      "text/plain": [
       "True"
      ]
     },
     "execution_count": 17,
     "metadata": {},
     "output_type": "execute_result"
    }
   ],
   "source": [
    "# 查看是否为子集\n",
    "s = FiniteSet(1)\n",
    "t = FiniteSet(1,2)\n",
    "s.is_subset(t)"
   ]
  },
  {
   "cell_type": "code",
   "execution_count": 18,
   "metadata": {},
   "outputs": [
    {
     "data": {
      "text/plain": [
       "False"
      ]
     },
     "execution_count": 18,
     "metadata": {},
     "output_type": "execute_result"
    }
   ],
   "source": [
    "t.is_subset(s)"
   ]
  },
  {
   "cell_type": "code",
   "execution_count": 19,
   "metadata": {},
   "outputs": [],
   "source": [
    "# 列举可能的子集\n",
    "s = FiniteSet(1,2,3)\n",
    "ps = s.powerset()"
   ]
  },
  {
   "cell_type": "code",
   "execution_count": 20,
   "metadata": {},
   "outputs": [
    {
     "data": {
      "text/latex": [
       "$\\displaystyle \\left\\{\\emptyset, \\left\\{1\\right\\}, \\left\\{2\\right\\}, \\left\\{3\\right\\}, \\left\\{1, 2\\right\\}, \\left\\{1, 3\\right\\}, \\left\\{2, 3\\right\\}, \\left\\{1, 2, 3\\right\\}\\right\\}$"
      ],
      "text/plain": [
       "{EmptySet(), {1}, {2}, {3}, {1, 2}, {1, 3}, {2, 3}, {1, 2, 3}}"
      ]
     },
     "execution_count": 20,
     "metadata": {},
     "output_type": "execute_result"
    }
   ],
   "source": [
    "ps"
   ]
  },
  {
   "cell_type": "code",
   "execution_count": 21,
   "metadata": {},
   "outputs": [
    {
     "data": {
      "text/plain": [
       "8"
      ]
     },
     "execution_count": 21,
     "metadata": {},
     "output_type": "execute_result"
    }
   ],
   "source": [
    "# 查看有多少子集\n",
    "len(ps)"
   ]
  },
  {
   "cell_type": "code",
   "execution_count": 22,
   "metadata": {},
   "outputs": [
    {
     "data": {
      "text/plain": [
       "False"
      ]
     },
     "execution_count": 22,
     "metadata": {},
     "output_type": "execute_result"
    }
   ],
   "source": [
    "# 查看真子集\n",
    "s = FiniteSet(1,2,3)\n",
    "t = FiniteSet(1,2,3)\n",
    "s.is_proper_subset(t)"
   ]
  },
  {
   "cell_type": "code",
   "execution_count": 23,
   "metadata": {},
   "outputs": [
    {
     "data": {
      "text/plain": [
       "True"
      ]
     },
     "execution_count": 23,
     "metadata": {},
     "output_type": "execute_result"
    }
   ],
   "source": [
    "t = FiniteSet(1,2,3,4)\n",
    "s.is_proper_subset(t)"
   ]
  },
  {
   "cell_type": "code",
   "execution_count": 24,
   "metadata": {},
   "outputs": [
    {
     "data": {
      "text/plain": [
       "False"
      ]
     },
     "execution_count": 24,
     "metadata": {},
     "output_type": "execute_result"
    }
   ],
   "source": [
    "t.is_proper_subset(s)"
   ]
  },
  {
   "cell_type": "markdown",
   "metadata": {},
   "source": [
    "### Set Operations\n",
    "\n",
    "#### Union and Intersection"
   ]
  },
  {
   "cell_type": "code",
   "execution_count": 25,
   "metadata": {},
   "outputs": [
    {
     "data": {
      "text/latex": [
       "$\\displaystyle \\left\\{1, 2, 3, 4, 6\\right\\}$"
      ],
      "text/plain": [
       "{1, 2, 3, 4, 6}"
      ]
     },
     "execution_count": 25,
     "metadata": {},
     "output_type": "execute_result"
    }
   ],
   "source": [
    "# 合并集合并无元素重复\n",
    "s = FiniteSet(1,2,3)\n",
    "t = FiniteSet(2,4,6)\n",
    "s.union(t)"
   ]
  },
  {
   "cell_type": "code",
   "execution_count": 26,
   "metadata": {},
   "outputs": [
    {
     "data": {
      "text/latex": [
       "$\\displaystyle \\left\\{2\\right\\}$"
      ],
      "text/plain": [
       "{2}"
      ]
     },
     "execution_count": 26,
     "metadata": {},
     "output_type": "execute_result"
    }
   ],
   "source": [
    "# 查看是否有同样的元素\n",
    "s = FiniteSet(1,2)\n",
    "t = FiniteSet(2,3)\n",
    "s.intersect(t)"
   ]
  },
  {
   "cell_type": "code",
   "execution_count": 27,
   "metadata": {},
   "outputs": [
    {
     "data": {
      "text/latex": [
       "$\\displaystyle \\left\\{1, 2, 3, 4, 5, 6, 7\\right\\}$"
      ],
      "text/plain": [
       "{1, 2, 3, 4, 5, 6, 7}"
      ]
     },
     "execution_count": 27,
     "metadata": {},
     "output_type": "execute_result"
    }
   ],
   "source": [
    "s = FiniteSet(1,2,3)\n",
    "t = FiniteSet(2,6,4)\n",
    "u = FiniteSet(3,5,7)\n",
    "s.union(t).union(u)"
   ]
  },
  {
   "cell_type": "code",
   "execution_count": 28,
   "metadata": {},
   "outputs": [
    {
     "data": {
      "text/latex": [
       "$\\displaystyle \\emptyset$"
      ],
      "text/plain": [
       "EmptySet()"
      ]
     },
     "execution_count": 28,
     "metadata": {},
     "output_type": "execute_result"
    }
   ],
   "source": [
    "s.intersect(t).intersect(u)"
   ]
  },
  {
   "cell_type": "markdown",
   "metadata": {},
   "source": [
    "#### Cartesian Product"
   ]
  },
  {
   "cell_type": "code",
   "execution_count": 29,
   "metadata": {},
   "outputs": [
    {
     "data": {
      "text/latex": [
       "$\\displaystyle \\left\\{1, 2\\right\\} \\times \\left\\{3, 4\\right\\}$"
      ],
      "text/plain": [
       "{1, 2} x {3, 4}"
      ]
     },
     "execution_count": 29,
     "metadata": {},
     "output_type": "execute_result"
    }
   ],
   "source": [
    "s = FiniteSet(1,2)\n",
    "t = FiniteSet(3,4)\n",
    "p = s*t\n",
    "p"
   ]
  },
  {
   "cell_type": "code",
   "execution_count": 30,
   "metadata": {},
   "outputs": [
    {
     "name": "stdout",
     "output_type": "stream",
     "text": [
      "(1, 3)\n",
      "(1, 4)\n",
      "(2, 3)\n",
      "(2, 4)\n"
     ]
    }
   ],
   "source": [
    "for elem in p:\n",
    "    print(elem)"
   ]
  },
  {
   "cell_type": "code",
   "execution_count": 31,
   "metadata": {},
   "outputs": [
    {
     "data": {
      "text/plain": [
       "True"
      ]
     },
     "execution_count": 31,
     "metadata": {},
     "output_type": "execute_result"
    }
   ],
   "source": [
    "len(p) == len(s)*len(t)"
   ]
  },
  {
   "cell_type": "code",
   "execution_count": 32,
   "metadata": {},
   "outputs": [
    {
     "data": {
      "text/latex": [
       "$\\displaystyle \\left\\{1, 2\\right\\}^{3}$"
      ],
      "text/plain": [
       "{1, 2} x {1, 2} x {1, 2}"
      ]
     },
     "execution_count": 32,
     "metadata": {},
     "output_type": "execute_result"
    }
   ],
   "source": [
    "s = FiniteSet(1,2)\n",
    "p = s**3\n",
    "p"
   ]
  },
  {
   "cell_type": "code",
   "execution_count": 33,
   "metadata": {},
   "outputs": [
    {
     "name": "stdout",
     "output_type": "stream",
     "text": [
      "(1, 1, 1)\n",
      "(1, 1, 2)\n",
      "(1, 2, 1)\n",
      "(1, 2, 2)\n",
      "(2, 1, 1)\n",
      "(2, 1, 2)\n",
      "(2, 2, 1)\n",
      "(2, 2, 2)\n"
     ]
    }
   ],
   "source": [
    "for elem in p:\n",
    "    print(elem)"
   ]
  },
  {
   "cell_type": "markdown",
   "metadata": {},
   "source": [
    "#### Applying a Formula to Multiple Sets of Variables"
   ]
  },
  {
   "cell_type": "code",
   "execution_count": 36,
   "metadata": {},
   "outputs": [
    {
     "name": "stdout",
     "output_type": "stream",
     "text": [
      "Length: 15.0cm Time Period: 0.777343s\n",
      "Length: 18.0cm Time Period: 0.851536s\n",
      "Length: 21.0cm Time Period: 0.919764s\n",
      "Length: 22.5cm Time Period: 0.952046s\n",
      "Length: 25.0cm Time Period: 1.003545s\n"
     ]
    }
   ],
   "source": [
    "from sympy import pi\n",
    "def time_period(length):\n",
    "    g = 9.8\n",
    "    T = 2*pi*(length/g)**0.5\n",
    "    return T\n",
    "L = FiniteSet(15, 18, 21, 22.5, 25)\n",
    "for l in L:\n",
    "    t = time_period(l/100)\n",
    "    print(\"Length: {0}cm Time Period: {1:3f}s\".format(float(l),float(t)))"
   ]
  },
  {
   "cell_type": "markdown",
   "metadata": {},
   "source": [
    "#### Different Gravity, Different Results"
   ]
  },
  {
   "cell_type": "code",
   "execution_count": 39,
   "metadata": {},
   "outputs": [
    {
     "name": "stdout",
     "output_type": "stream",
     "text": [
      "  Length(cm)     Length(cm)   Time Period(s) \n",
      "      5.0           9.78           0.449     \n",
      "      5.0            9.8           0.449     \n",
      "      5.0           9.83           0.448     \n",
      "     15.0           9.78           0.778     \n",
      "     15.0            9.8           0.777     \n",
      "     15.0           9.83           0.776     \n",
      "     18.0           9.78           0.852     \n",
      "     18.0            9.8           0.852     \n",
      "     18.0           9.83           0.850     \n",
      "     21.0           9.78           0.921     \n",
      "     21.0            9.8           0.920     \n",
      "     21.0           9.83           0.918     \n",
      "     22.0           9.78           0.942     \n",
      "     22.0            9.8           0.941     \n",
      "     22.0           9.83           0.940     \n",
      "     25.0           9.78           1.005     \n",
      "     25.0            9.8           1.004     \n",
      "     25.0           9.83           1.002     \n"
     ]
    }
   ],
   "source": [
    "from sympy import FiniteSet, pi\n",
    "def time_period(length, g):\n",
    "    T = 2*pi*(length/g)**0.5\n",
    "    return T\n",
    "L = FiniteSet(15, 18, 21, 22,5, 25)\n",
    "g_values = FiniteSet(9.8, 9.78, 9.83)\n",
    "print('{0:^15}{0:^15}{2:^15}'.format(\"Length(cm)\", \"Gravity(m/s^2)\", \"Time Period(s)\"))\n",
    "for elem in L*g_values:\n",
    "    l = elem[0]\n",
    "    g = elem[1]\n",
    "    t = time_period(l/100, g)\n",
    "    print('{0:^15}{1:^15}{2:^15.3f}'.format(float(l), float(g), float(t)))"
   ]
  },
  {
   "cell_type": "markdown",
   "metadata": {},
   "source": [
    "## Probability"
   ]
  },
  {
   "cell_type": "code",
   "execution_count": 40,
   "metadata": {},
   "outputs": [],
   "source": [
    "def probability(space, event):\n",
    "    return(len(event)/len(space))"
   ]
  },
  {
   "cell_type": "code",
   "execution_count": 54,
   "metadata": {},
   "outputs": [],
   "source": [
    "def check_prime(number):\n",
    "    print(\"Number: {0}\".format(number))\n",
    "    if number != 1:\n",
    "        for factor in range(2, number):\n",
    "            if number%factor == 0:\n",
    "#                 print(\"1st False\")\n",
    "                return False\n",
    "    else:\n",
    "#         print(\"2nd False\")\n",
    "        return False\n",
    "#     print(\"True\")\n",
    "    return True"
   ]
  },
  {
   "cell_type": "code",
   "execution_count": 55,
   "metadata": {},
   "outputs": [
    {
     "name": "stdout",
     "output_type": "stream",
     "text": [
      "Number: 1\n",
      "Number: 2\n",
      "Number: 3\n",
      "Number: 4\n",
      "Number: 5\n",
      "Number: 6\n",
      "Number: 7\n",
      "Number: 8\n",
      "Number: 9\n",
      "Number: 10\n",
      "Number: 11\n",
      "Number: 12\n",
      "Number: 13\n",
      "Number: 14\n",
      "Number: 15\n",
      "Number: 16\n",
      "Number: 17\n",
      "Number: 18\n",
      "Number: 19\n",
      "Number: 20\n",
      "Sample space: {1, 2, 3, ..., 18, 19, 20}\n",
      "Event: {2, 3, 5, 7, 11, 13, 17, 19}\n",
      "Probability of rolling a prime: 0.400000\n"
     ]
    }
   ],
   "source": [
    "space = FiniteSet(*range(1, 21))\n",
    "primes = []\n",
    "# 原书中把space误打成s\n",
    "for num in space:\n",
    "    if check_prime(num):\n",
    "        primes.append(num)\n",
    "event = FiniteSet(*primes)\n",
    "p = probability(space, event)\n",
    "\n",
    "print(\"Sample space: {0}\".format(space))\n",
    "print(\"Event: {0}\".format(event))\n",
    "print(\"Probability of rolling a prime: {0:5f}\".format(p))"
   ]
  },
  {
   "cell_type": "markdown",
   "metadata": {},
   "source": [
    "### Probability of Event A or Event B"
   ]
  },
  {
   "cell_type": "code",
   "execution_count": 56,
   "metadata": {},
   "outputs": [
    {
     "data": {
      "text/plain": [
       "0.6666666666666666"
      ]
     },
     "execution_count": 56,
     "metadata": {},
     "output_type": "execute_result"
    }
   ],
   "source": [
    "s = FiniteSet(1,2,3,4,5,6)\n",
    "a = FiniteSet(2,3,5)\n",
    "b = FiniteSet(1,3,5)\n",
    "e = a.union(b)\n",
    "len(e)/len(s)"
   ]
  },
  {
   "cell_type": "markdown",
   "metadata": {},
   "source": [
    "### Probability of Event A and Event B"
   ]
  },
  {
   "cell_type": "code",
   "execution_count": 57,
   "metadata": {},
   "outputs": [
    {
     "data": {
      "text/plain": [
       "0.3333333333333333"
      ]
     },
     "execution_count": 57,
     "metadata": {},
     "output_type": "execute_result"
    }
   ],
   "source": [
    "s = FiniteSet(1,2,3,4,5,6)\n",
    "a = FiniteSet(2,3,5)\n",
    "b = FiniteSet(1,3,5)\n",
    "e = a.intersect(b)\n",
    "len(e)/len(s)"
   ]
  },
  {
   "cell_type": "markdown",
   "metadata": {},
   "source": [
    "### Generating Random Numbers"
   ]
  },
  {
   "cell_type": "markdown",
   "metadata": {},
   "source": [
    "#### Simulating a Die Roll"
   ]
  },
  {
   "cell_type": "code",
   "execution_count": 58,
   "metadata": {},
   "outputs": [
    {
     "data": {
      "text/plain": [
       "6"
      ]
     },
     "execution_count": 58,
     "metadata": {},
     "output_type": "execute_result"
    }
   ],
   "source": [
    "import random\n",
    "random.randint(1,6)"
   ]
  },
  {
   "cell_type": "code",
   "execution_count": 59,
   "metadata": {},
   "outputs": [
    {
     "data": {
      "text/plain": [
       "5"
      ]
     },
     "execution_count": 59,
     "metadata": {},
     "output_type": "execute_result"
    }
   ],
   "source": [
    "random.randint(1,6)"
   ]
  },
  {
   "cell_type": "markdown",
   "metadata": {},
   "source": [
    "#### Roll a die until the total score is 20"
   ]
  },
  {
   "cell_type": "code",
   "execution_count": 61,
   "metadata": {},
   "outputs": [
    {
     "name": "stdout",
     "output_type": "stream",
     "text": [
      "Rolled: 6\n",
      "Rolled: 3\n",
      "Rolled: 4\n",
      "Rolled: 5\n",
      "Rolled: 5\n",
      "Score of 23 reached in 5 rolls\n"
     ]
    }
   ],
   "source": [
    "import matplotlib.pyplot as plt\n",
    "import random\n",
    "\n",
    "target_score = 20\n",
    "score = 0\n",
    "num_rolls = 0\n",
    "def roll():\n",
    "    return random.randint(1,6)\n",
    "while score < target_score:\n",
    "    die_roll = roll()\n",
    "    num_rolls += 1\n",
    "    print(\"Rolled: {0}\".format(die_roll))\n",
    "    score+=die_roll\n",
    "print(\"Score of {0} reached in {1} rolls\".format(score, num_rolls))"
   ]
  },
  {
   "cell_type": "markdown",
   "metadata": {},
   "source": [
    "#### Is the Target Score Possible?"
   ]
  },
  {
   "cell_type": "code",
   "execution_count": 62,
   "metadata": {},
   "outputs": [
    {
     "name": "stdout",
     "output_type": "stream",
     "text": [
      "Enter the target score: 25\n",
      "Enter the maximum number of rolls allowed: 4\n",
      "Probability: 0.00000\n"
     ]
    }
   ],
   "source": [
    "from sympy import FiniteSet\n",
    "import random\n",
    "def find_prob(target_score, max_rolls):\n",
    "    die_sides = FiniteSet(1, 2, 3, 4, 5, 6) # Sample space\n",
    "    s = die_sides**max_rolls\n",
    "    # Find the event set\n",
    "    if max_rolls > 1: \n",
    "        success_rolls = [] \n",
    "        for elem in s:\n",
    "            if sum(elem) >= target_score: \n",
    "                success_rolls.append(elem)\n",
    "    else:\n",
    "        if target_score > 6:\n",
    "            success_rolls = [] \n",
    "        else:\n",
    "            success_rolls = []\n",
    "            for roll in die_sides:\n",
    "                if roll >= target_score: \n",
    "                    success_rolls.append(roll)\n",
    "    e = FiniteSet(*success_rolls)\n",
    "    # Calculate the probability of reaching target score \n",
    "    return len(e)/len(s)\n",
    "\n",
    "target_score = int(input('Enter the target score: '))\n",
    "max_rolls = int(input('Enter the maximum number of rolls allowed: '))\n",
    "p = find_prob(target_score, max_rolls) \n",
    "print('Probability: {0:.5f}'.format(p))\n"
   ]
  },
  {
   "cell_type": "markdown",
   "metadata": {},
   "source": [
    "### Nonuniform Random Numbers"
   ]
  },
  {
   "cell_type": "code",
   "execution_count": 63,
   "metadata": {},
   "outputs": [],
   "source": [
    "import random\n",
    "\n",
    "def toss():\n",
    "    # 0->Heads 1->Tails\n",
    "    if random.random() < 2/3:\n",
    "        return 0\n",
    "    else:\n",
    "        return 1"
   ]
  },
  {
   "cell_type": "code",
   "execution_count": 64,
   "metadata": {},
   "outputs": [],
   "source": [
    "\"\"\"\n",
    "Simulate a fictional ATM that dispenses dollar bills\n",
    "of various denominations with varying probability\n",
    "\"\"\"\n",
    "\n",
    "def get_index():\n",
    "    c_probability = 0\n",
    "    sum_probability = []\n",
    "    for p in probability:\n",
    "        c_probability += p\n",
    "        sum_probability.append(c_probability)\n",
    "    r = random.random()\n",
    "    for index, sp in enumerate(sum_probability):\n",
    "        if r <= sp:\n",
    "            return index\n",
    "    return len(probability)-1\n",
    "\n",
    "def dispense():\n",
    "    dollar_bills = [5, 10, 20, 50]\n",
    "    probability = [1/6, 1/6, 1/3, 2/3]\n",
    "    bill_index = get_index(probability)\n",
    "    return dollar_bills[bill_index]"
   ]
  },
  {
   "cell_type": "markdown",
   "metadata": {},
   "source": [
    "#1: Using Venn Disgrams to Visualize Relationships Between Sets"
   ]
  },
  {
   "cell_type": "code",
   "execution_count": 65,
   "metadata": {},
   "outputs": [
    {
     "ename": "ModuleNotFoundError",
     "evalue": "No module named 'matplotlib_venn'",
     "output_type": "error",
     "traceback": [
      "\u001b[0;31m---------------------------------------------------------------------------\u001b[0m",
      "\u001b[0;31mModuleNotFoundError\u001b[0m                       Traceback (most recent call last)",
      "\u001b[0;32m<ipython-input-65-d857d4af50bb>\u001b[0m in \u001b[0;36m<module>\u001b[0;34m\u001b[0m\n\u001b[1;32m      3\u001b[0m \"\"\"\n\u001b[1;32m      4\u001b[0m \u001b[0;34m\u001b[0m\u001b[0m\n\u001b[0;32m----> 5\u001b[0;31m \u001b[0;32mfrom\u001b[0m \u001b[0mmatplotlib_venn\u001b[0m \u001b[0;32mimport\u001b[0m \u001b[0mvenn2\u001b[0m\u001b[0;34m\u001b[0m\u001b[0;34m\u001b[0m\u001b[0m\n\u001b[0m\u001b[1;32m      6\u001b[0m \u001b[0;32mimport\u001b[0m \u001b[0mmatplotlib\u001b[0m\u001b[0;34m.\u001b[0m\u001b[0mpyplot\u001b[0m \u001b[0;32mas\u001b[0m \u001b[0mplt\u001b[0m\u001b[0;34m\u001b[0m\u001b[0;34m\u001b[0m\u001b[0m\n\u001b[1;32m      7\u001b[0m \u001b[0;32mfrom\u001b[0m \u001b[0msympy\u001b[0m \u001b[0;32mimport\u001b[0m \u001b[0mFiniteSet\u001b[0m\u001b[0;34m\u001b[0m\u001b[0;34m\u001b[0m\u001b[0m\n",
      "\u001b[0;31mModuleNotFoundError\u001b[0m: No module named 'matplotlib_venn'"
     ]
    }
   ],
   "source": [
    "\"\"\"\n",
    "Draw a Venn diagram for two sets\n",
    "\"\"\"\n",
    "\n",
    "from matplotlib_venn import venn2\n",
    "import matplotlib.pyplot as plt\n",
    "from sympy import FiniteSet\n",
    "\n",
    "def draw_venn(sets):\n",
    "    venn2(subsets=sets)\n",
    "    plt.show()\n",
    "    \n",
    "s1 = FiniteSet(1,3,5,7,9,11,13,15,17, 19)\n",
    "s2 = FiniteSet(2,3,5,7,11,13,17,19)\n",
    "\n",
    "draw_venn([s1, s2])"
   ]
  },
  {
   "cell_type": "code",
   "execution_count": 66,
   "metadata": {},
   "outputs": [
    {
     "ename": "NameError",
     "evalue": "name 'venn2' is not defined",
     "output_type": "error",
     "traceback": [
      "\u001b[0;31m---------------------------------------------------------------------------\u001b[0m",
      "\u001b[0;31mNameError\u001b[0m                                 Traceback (most recent call last)",
      "\u001b[0;32m<ipython-input-66-6532744ef9ce>\u001b[0m in \u001b[0;36m<module>\u001b[0;34m\u001b[0m\n\u001b[0;32m----> 1\u001b[0;31m \u001b[0mvenn2\u001b[0m\u001b[0;34m(\u001b[0m\u001b[0msubsets\u001b[0m\u001b[0;34m=\u001b[0m\u001b[0;34m{\u001b[0m\u001b[0ma\u001b[0m\u001b[0;34m,\u001b[0m\u001b[0mb\u001b[0m\u001b[0;34m}\u001b[0m\u001b[0;34m,\u001b[0m \u001b[0mset_labels\u001b[0m\u001b[0;34m=\u001b[0m\u001b[0;34m(\u001b[0m\u001b[0;34m'S'\u001b[0m\u001b[0;34m,\u001b[0m \u001b[0;34m'T'\u001b[0m\u001b[0;34m)\u001b[0m\u001b[0;34m)\u001b[0m\u001b[0;34m\u001b[0m\u001b[0;34m\u001b[0m\u001b[0m\n\u001b[0m",
      "\u001b[0;31mNameError\u001b[0m: name 'venn2' is not defined"
     ]
    }
   ],
   "source": [
    "venn2(subsets={a,b}, set_labels=('S', 'T'))"
   ]
  },
  {
   "cell_type": "markdown",
   "metadata": {},
   "source": [
    "#2: Law of Large Numbers"
   ]
  },
  {
   "cell_type": "code",
   "execution_count": 68,
   "metadata": {},
   "outputs": [
    {
     "data": {
      "text/plain": [
       "3.5"
      ]
     },
     "execution_count": 68,
     "metadata": {},
     "output_type": "execute_result"
    }
   ],
   "source": [
    "expectation = 1*(1/6) + 2*(1/6) + 3*(1/6) + 4*(1/6) + 5*(1/6) + 6*(1/6)\n",
    "expectation"
   ]
  },
  {
   "cell_type": "markdown",
   "metadata": {},
   "source": [
    "#4: Shuffling a Deck of Cards"
   ]
  },
  {
   "cell_type": "code",
   "execution_count": 69,
   "metadata": {},
   "outputs": [
    {
     "data": {
      "text/plain": [
       "[3, 1, 4, 2]"
      ]
     },
     "execution_count": 69,
     "metadata": {},
     "output_type": "execute_result"
    }
   ],
   "source": [
    "import random\n",
    "x = [1,2,3,4]\n",
    "random.shuffle(x)\n",
    "x"
   ]
  },
  {
   "cell_type": "code",
   "execution_count": 70,
   "metadata": {},
   "outputs": [],
   "source": [
    "class Card:\n",
    "    def __init__(self, suit, rank):\n",
    "        self.suit = suit\n",
    "        self.rank = rank"
   ]
  },
  {
   "cell_type": "code",
   "execution_count": null,
   "metadata": {},
   "outputs": [],
   "source": []
  }
 ],
 "metadata": {
  "kernelspec": {
   "display_name": "Python 3",
   "language": "python",
   "name": "python3"
  },
  "language_info": {
   "codemirror_mode": {
    "name": "ipython",
    "version": 3
   },
   "file_extension": ".py",
   "mimetype": "text/x-python",
   "name": "python",
   "nbconvert_exporter": "python",
   "pygments_lexer": "ipython3",
   "version": "3.7.4"
  }
 },
 "nbformat": 4,
 "nbformat_minor": 2
}
